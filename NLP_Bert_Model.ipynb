{
  "nbformat": 4,
  "nbformat_minor": 0,
  "metadata": {
    "colab": {
      "provenance": [],
      "authorship_tag": "ABX9TyPRfn6MJYP+hfDy5uf3nAwu",
      "include_colab_link": true
    },
    "kernelspec": {
      "name": "python3",
      "display_name": "Python 3"
    },
    "language_info": {
      "name": "python"
    },
    "widgets": {
      "application/vnd.jupyter.widget-state+json": {
        "cc5f4178e6ed432ab9b296205f55c8ac": {
          "model_module": "@jupyter-widgets/controls",
          "model_name": "HBoxModel",
          "model_module_version": "1.5.0",
          "state": {
            "_dom_classes": [],
            "_model_module": "@jupyter-widgets/controls",
            "_model_module_version": "1.5.0",
            "_model_name": "HBoxModel",
            "_view_count": null,
            "_view_module": "@jupyter-widgets/controls",
            "_view_module_version": "1.5.0",
            "_view_name": "HBoxView",
            "box_style": "",
            "children": [
              "IPY_MODEL_71703cbf629a4a2ab129f24a282b4fde",
              "IPY_MODEL_251507cf765c4773850c8b6b12c6f6d7",
              "IPY_MODEL_69b5abddc3494155a5e6572ff1809f65"
            ],
            "layout": "IPY_MODEL_53ffc374151741d19a38478838f97a4c"
          }
        },
        "71703cbf629a4a2ab129f24a282b4fde": {
          "model_module": "@jupyter-widgets/controls",
          "model_name": "HTMLModel",
          "model_module_version": "1.5.0",
          "state": {
            "_dom_classes": [],
            "_model_module": "@jupyter-widgets/controls",
            "_model_module_version": "1.5.0",
            "_model_name": "HTMLModel",
            "_view_count": null,
            "_view_module": "@jupyter-widgets/controls",
            "_view_module_version": "1.5.0",
            "_view_name": "HTMLView",
            "description": "",
            "description_tooltip": null,
            "layout": "IPY_MODEL_3dba660447ff403b88064cfbe422b164",
            "placeholder": "​",
            "style": "IPY_MODEL_eb80a6c6f7d04033a3e9446978e0d1f0",
            "value": "Downloading (…)okenizer_config.json: 100%"
          }
        },
        "251507cf765c4773850c8b6b12c6f6d7": {
          "model_module": "@jupyter-widgets/controls",
          "model_name": "FloatProgressModel",
          "model_module_version": "1.5.0",
          "state": {
            "_dom_classes": [],
            "_model_module": "@jupyter-widgets/controls",
            "_model_module_version": "1.5.0",
            "_model_name": "FloatProgressModel",
            "_view_count": null,
            "_view_module": "@jupyter-widgets/controls",
            "_view_module_version": "1.5.0",
            "_view_name": "ProgressView",
            "bar_style": "success",
            "description": "",
            "description_tooltip": null,
            "layout": "IPY_MODEL_479284b500974d2ca39b7a1527612946",
            "max": 39,
            "min": 0,
            "orientation": "horizontal",
            "style": "IPY_MODEL_f097c27896fe4dc9bbbd877aa36abf01",
            "value": 39
          }
        },
        "69b5abddc3494155a5e6572ff1809f65": {
          "model_module": "@jupyter-widgets/controls",
          "model_name": "HTMLModel",
          "model_module_version": "1.5.0",
          "state": {
            "_dom_classes": [],
            "_model_module": "@jupyter-widgets/controls",
            "_model_module_version": "1.5.0",
            "_model_name": "HTMLModel",
            "_view_count": null,
            "_view_module": "@jupyter-widgets/controls",
            "_view_module_version": "1.5.0",
            "_view_name": "HTMLView",
            "description": "",
            "description_tooltip": null,
            "layout": "IPY_MODEL_290e46421fea43f69978f7666c09f382",
            "placeholder": "​",
            "style": "IPY_MODEL_a9a338d56d0c4c3588082e67363e9132",
            "value": " 39.0/39.0 [00:00&lt;00:00, 968B/s]"
          }
        },
        "53ffc374151741d19a38478838f97a4c": {
          "model_module": "@jupyter-widgets/base",
          "model_name": "LayoutModel",
          "model_module_version": "1.2.0",
          "state": {
            "_model_module": "@jupyter-widgets/base",
            "_model_module_version": "1.2.0",
            "_model_name": "LayoutModel",
            "_view_count": null,
            "_view_module": "@jupyter-widgets/base",
            "_view_module_version": "1.2.0",
            "_view_name": "LayoutView",
            "align_content": null,
            "align_items": null,
            "align_self": null,
            "border": null,
            "bottom": null,
            "display": null,
            "flex": null,
            "flex_flow": null,
            "grid_area": null,
            "grid_auto_columns": null,
            "grid_auto_flow": null,
            "grid_auto_rows": null,
            "grid_column": null,
            "grid_gap": null,
            "grid_row": null,
            "grid_template_areas": null,
            "grid_template_columns": null,
            "grid_template_rows": null,
            "height": null,
            "justify_content": null,
            "justify_items": null,
            "left": null,
            "margin": null,
            "max_height": null,
            "max_width": null,
            "min_height": null,
            "min_width": null,
            "object_fit": null,
            "object_position": null,
            "order": null,
            "overflow": null,
            "overflow_x": null,
            "overflow_y": null,
            "padding": null,
            "right": null,
            "top": null,
            "visibility": null,
            "width": null
          }
        },
        "3dba660447ff403b88064cfbe422b164": {
          "model_module": "@jupyter-widgets/base",
          "model_name": "LayoutModel",
          "model_module_version": "1.2.0",
          "state": {
            "_model_module": "@jupyter-widgets/base",
            "_model_module_version": "1.2.0",
            "_model_name": "LayoutModel",
            "_view_count": null,
            "_view_module": "@jupyter-widgets/base",
            "_view_module_version": "1.2.0",
            "_view_name": "LayoutView",
            "align_content": null,
            "align_items": null,
            "align_self": null,
            "border": null,
            "bottom": null,
            "display": null,
            "flex": null,
            "flex_flow": null,
            "grid_area": null,
            "grid_auto_columns": null,
            "grid_auto_flow": null,
            "grid_auto_rows": null,
            "grid_column": null,
            "grid_gap": null,
            "grid_row": null,
            "grid_template_areas": null,
            "grid_template_columns": null,
            "grid_template_rows": null,
            "height": null,
            "justify_content": null,
            "justify_items": null,
            "left": null,
            "margin": null,
            "max_height": null,
            "max_width": null,
            "min_height": null,
            "min_width": null,
            "object_fit": null,
            "object_position": null,
            "order": null,
            "overflow": null,
            "overflow_x": null,
            "overflow_y": null,
            "padding": null,
            "right": null,
            "top": null,
            "visibility": null,
            "width": null
          }
        },
        "eb80a6c6f7d04033a3e9446978e0d1f0": {
          "model_module": "@jupyter-widgets/controls",
          "model_name": "DescriptionStyleModel",
          "model_module_version": "1.5.0",
          "state": {
            "_model_module": "@jupyter-widgets/controls",
            "_model_module_version": "1.5.0",
            "_model_name": "DescriptionStyleModel",
            "_view_count": null,
            "_view_module": "@jupyter-widgets/base",
            "_view_module_version": "1.2.0",
            "_view_name": "StyleView",
            "description_width": ""
          }
        },
        "479284b500974d2ca39b7a1527612946": {
          "model_module": "@jupyter-widgets/base",
          "model_name": "LayoutModel",
          "model_module_version": "1.2.0",
          "state": {
            "_model_module": "@jupyter-widgets/base",
            "_model_module_version": "1.2.0",
            "_model_name": "LayoutModel",
            "_view_count": null,
            "_view_module": "@jupyter-widgets/base",
            "_view_module_version": "1.2.0",
            "_view_name": "LayoutView",
            "align_content": null,
            "align_items": null,
            "align_self": null,
            "border": null,
            "bottom": null,
            "display": null,
            "flex": null,
            "flex_flow": null,
            "grid_area": null,
            "grid_auto_columns": null,
            "grid_auto_flow": null,
            "grid_auto_rows": null,
            "grid_column": null,
            "grid_gap": null,
            "grid_row": null,
            "grid_template_areas": null,
            "grid_template_columns": null,
            "grid_template_rows": null,
            "height": null,
            "justify_content": null,
            "justify_items": null,
            "left": null,
            "margin": null,
            "max_height": null,
            "max_width": null,
            "min_height": null,
            "min_width": null,
            "object_fit": null,
            "object_position": null,
            "order": null,
            "overflow": null,
            "overflow_x": null,
            "overflow_y": null,
            "padding": null,
            "right": null,
            "top": null,
            "visibility": null,
            "width": null
          }
        },
        "f097c27896fe4dc9bbbd877aa36abf01": {
          "model_module": "@jupyter-widgets/controls",
          "model_name": "ProgressStyleModel",
          "model_module_version": "1.5.0",
          "state": {
            "_model_module": "@jupyter-widgets/controls",
            "_model_module_version": "1.5.0",
            "_model_name": "ProgressStyleModel",
            "_view_count": null,
            "_view_module": "@jupyter-widgets/base",
            "_view_module_version": "1.2.0",
            "_view_name": "StyleView",
            "bar_color": null,
            "description_width": ""
          }
        },
        "290e46421fea43f69978f7666c09f382": {
          "model_module": "@jupyter-widgets/base",
          "model_name": "LayoutModel",
          "model_module_version": "1.2.0",
          "state": {
            "_model_module": "@jupyter-widgets/base",
            "_model_module_version": "1.2.0",
            "_model_name": "LayoutModel",
            "_view_count": null,
            "_view_module": "@jupyter-widgets/base",
            "_view_module_version": "1.2.0",
            "_view_name": "LayoutView",
            "align_content": null,
            "align_items": null,
            "align_self": null,
            "border": null,
            "bottom": null,
            "display": null,
            "flex": null,
            "flex_flow": null,
            "grid_area": null,
            "grid_auto_columns": null,
            "grid_auto_flow": null,
            "grid_auto_rows": null,
            "grid_column": null,
            "grid_gap": null,
            "grid_row": null,
            "grid_template_areas": null,
            "grid_template_columns": null,
            "grid_template_rows": null,
            "height": null,
            "justify_content": null,
            "justify_items": null,
            "left": null,
            "margin": null,
            "max_height": null,
            "max_width": null,
            "min_height": null,
            "min_width": null,
            "object_fit": null,
            "object_position": null,
            "order": null,
            "overflow": null,
            "overflow_x": null,
            "overflow_y": null,
            "padding": null,
            "right": null,
            "top": null,
            "visibility": null,
            "width": null
          }
        },
        "a9a338d56d0c4c3588082e67363e9132": {
          "model_module": "@jupyter-widgets/controls",
          "model_name": "DescriptionStyleModel",
          "model_module_version": "1.5.0",
          "state": {
            "_model_module": "@jupyter-widgets/controls",
            "_model_module_version": "1.5.0",
            "_model_name": "DescriptionStyleModel",
            "_view_count": null,
            "_view_module": "@jupyter-widgets/base",
            "_view_module_version": "1.2.0",
            "_view_name": "StyleView",
            "description_width": ""
          }
        },
        "bcec752e76054986b0f57561e63db7f4": {
          "model_module": "@jupyter-widgets/controls",
          "model_name": "HBoxModel",
          "model_module_version": "1.5.0",
          "state": {
            "_dom_classes": [],
            "_model_module": "@jupyter-widgets/controls",
            "_model_module_version": "1.5.0",
            "_model_name": "HBoxModel",
            "_view_count": null,
            "_view_module": "@jupyter-widgets/controls",
            "_view_module_version": "1.5.0",
            "_view_name": "HBoxView",
            "box_style": "",
            "children": [
              "IPY_MODEL_779b69c6d177477aa7b73506a5d81059",
              "IPY_MODEL_4c7b2424edb64e988e6a4362df46eb25",
              "IPY_MODEL_65c5038c3c6846adb5df3f1d03f61aa4"
            ],
            "layout": "IPY_MODEL_aa02fa2fc4e64152b727b24eabef4cd5"
          }
        },
        "779b69c6d177477aa7b73506a5d81059": {
          "model_module": "@jupyter-widgets/controls",
          "model_name": "HTMLModel",
          "model_module_version": "1.5.0",
          "state": {
            "_dom_classes": [],
            "_model_module": "@jupyter-widgets/controls",
            "_model_module_version": "1.5.0",
            "_model_name": "HTMLModel",
            "_view_count": null,
            "_view_module": "@jupyter-widgets/controls",
            "_view_module_version": "1.5.0",
            "_view_name": "HTMLView",
            "description": "",
            "description_tooltip": null,
            "layout": "IPY_MODEL_8fae6597f7834652a05772f52877ce57",
            "placeholder": "​",
            "style": "IPY_MODEL_aeebfe760610451d84375478b55af5c2",
            "value": "Downloading (…)lve/main/config.json: 100%"
          }
        },
        "4c7b2424edb64e988e6a4362df46eb25": {
          "model_module": "@jupyter-widgets/controls",
          "model_name": "FloatProgressModel",
          "model_module_version": "1.5.0",
          "state": {
            "_dom_classes": [],
            "_model_module": "@jupyter-widgets/controls",
            "_model_module_version": "1.5.0",
            "_model_name": "FloatProgressModel",
            "_view_count": null,
            "_view_module": "@jupyter-widgets/controls",
            "_view_module_version": "1.5.0",
            "_view_name": "ProgressView",
            "bar_style": "success",
            "description": "",
            "description_tooltip": null,
            "layout": "IPY_MODEL_4ab809fb98c343aa8ecc4d9418c91796",
            "max": 953,
            "min": 0,
            "orientation": "horizontal",
            "style": "IPY_MODEL_8e4d6bd2846c4bf68efa78440257f267",
            "value": 953
          }
        },
        "65c5038c3c6846adb5df3f1d03f61aa4": {
          "model_module": "@jupyter-widgets/controls",
          "model_name": "HTMLModel",
          "model_module_version": "1.5.0",
          "state": {
            "_dom_classes": [],
            "_model_module": "@jupyter-widgets/controls",
            "_model_module_version": "1.5.0",
            "_model_name": "HTMLModel",
            "_view_count": null,
            "_view_module": "@jupyter-widgets/controls",
            "_view_module_version": "1.5.0",
            "_view_name": "HTMLView",
            "description": "",
            "description_tooltip": null,
            "layout": "IPY_MODEL_a3ff859a464b48668c5c7de381f8bdf3",
            "placeholder": "​",
            "style": "IPY_MODEL_d615b050fb91478e86adc15cfff2fc76",
            "value": " 953/953 [00:00&lt;00:00, 14.1kB/s]"
          }
        },
        "aa02fa2fc4e64152b727b24eabef4cd5": {
          "model_module": "@jupyter-widgets/base",
          "model_name": "LayoutModel",
          "model_module_version": "1.2.0",
          "state": {
            "_model_module": "@jupyter-widgets/base",
            "_model_module_version": "1.2.0",
            "_model_name": "LayoutModel",
            "_view_count": null,
            "_view_module": "@jupyter-widgets/base",
            "_view_module_version": "1.2.0",
            "_view_name": "LayoutView",
            "align_content": null,
            "align_items": null,
            "align_self": null,
            "border": null,
            "bottom": null,
            "display": null,
            "flex": null,
            "flex_flow": null,
            "grid_area": null,
            "grid_auto_columns": null,
            "grid_auto_flow": null,
            "grid_auto_rows": null,
            "grid_column": null,
            "grid_gap": null,
            "grid_row": null,
            "grid_template_areas": null,
            "grid_template_columns": null,
            "grid_template_rows": null,
            "height": null,
            "justify_content": null,
            "justify_items": null,
            "left": null,
            "margin": null,
            "max_height": null,
            "max_width": null,
            "min_height": null,
            "min_width": null,
            "object_fit": null,
            "object_position": null,
            "order": null,
            "overflow": null,
            "overflow_x": null,
            "overflow_y": null,
            "padding": null,
            "right": null,
            "top": null,
            "visibility": null,
            "width": null
          }
        },
        "8fae6597f7834652a05772f52877ce57": {
          "model_module": "@jupyter-widgets/base",
          "model_name": "LayoutModel",
          "model_module_version": "1.2.0",
          "state": {
            "_model_module": "@jupyter-widgets/base",
            "_model_module_version": "1.2.0",
            "_model_name": "LayoutModel",
            "_view_count": null,
            "_view_module": "@jupyter-widgets/base",
            "_view_module_version": "1.2.0",
            "_view_name": "LayoutView",
            "align_content": null,
            "align_items": null,
            "align_self": null,
            "border": null,
            "bottom": null,
            "display": null,
            "flex": null,
            "flex_flow": null,
            "grid_area": null,
            "grid_auto_columns": null,
            "grid_auto_flow": null,
            "grid_auto_rows": null,
            "grid_column": null,
            "grid_gap": null,
            "grid_row": null,
            "grid_template_areas": null,
            "grid_template_columns": null,
            "grid_template_rows": null,
            "height": null,
            "justify_content": null,
            "justify_items": null,
            "left": null,
            "margin": null,
            "max_height": null,
            "max_width": null,
            "min_height": null,
            "min_width": null,
            "object_fit": null,
            "object_position": null,
            "order": null,
            "overflow": null,
            "overflow_x": null,
            "overflow_y": null,
            "padding": null,
            "right": null,
            "top": null,
            "visibility": null,
            "width": null
          }
        },
        "aeebfe760610451d84375478b55af5c2": {
          "model_module": "@jupyter-widgets/controls",
          "model_name": "DescriptionStyleModel",
          "model_module_version": "1.5.0",
          "state": {
            "_model_module": "@jupyter-widgets/controls",
            "_model_module_version": "1.5.0",
            "_model_name": "DescriptionStyleModel",
            "_view_count": null,
            "_view_module": "@jupyter-widgets/base",
            "_view_module_version": "1.2.0",
            "_view_name": "StyleView",
            "description_width": ""
          }
        },
        "4ab809fb98c343aa8ecc4d9418c91796": {
          "model_module": "@jupyter-widgets/base",
          "model_name": "LayoutModel",
          "model_module_version": "1.2.0",
          "state": {
            "_model_module": "@jupyter-widgets/base",
            "_model_module_version": "1.2.0",
            "_model_name": "LayoutModel",
            "_view_count": null,
            "_view_module": "@jupyter-widgets/base",
            "_view_module_version": "1.2.0",
            "_view_name": "LayoutView",
            "align_content": null,
            "align_items": null,
            "align_self": null,
            "border": null,
            "bottom": null,
            "display": null,
            "flex": null,
            "flex_flow": null,
            "grid_area": null,
            "grid_auto_columns": null,
            "grid_auto_flow": null,
            "grid_auto_rows": null,
            "grid_column": null,
            "grid_gap": null,
            "grid_row": null,
            "grid_template_areas": null,
            "grid_template_columns": null,
            "grid_template_rows": null,
            "height": null,
            "justify_content": null,
            "justify_items": null,
            "left": null,
            "margin": null,
            "max_height": null,
            "max_width": null,
            "min_height": null,
            "min_width": null,
            "object_fit": null,
            "object_position": null,
            "order": null,
            "overflow": null,
            "overflow_x": null,
            "overflow_y": null,
            "padding": null,
            "right": null,
            "top": null,
            "visibility": null,
            "width": null
          }
        },
        "8e4d6bd2846c4bf68efa78440257f267": {
          "model_module": "@jupyter-widgets/controls",
          "model_name": "ProgressStyleModel",
          "model_module_version": "1.5.0",
          "state": {
            "_model_module": "@jupyter-widgets/controls",
            "_model_module_version": "1.5.0",
            "_model_name": "ProgressStyleModel",
            "_view_count": null,
            "_view_module": "@jupyter-widgets/base",
            "_view_module_version": "1.2.0",
            "_view_name": "StyleView",
            "bar_color": null,
            "description_width": ""
          }
        },
        "a3ff859a464b48668c5c7de381f8bdf3": {
          "model_module": "@jupyter-widgets/base",
          "model_name": "LayoutModel",
          "model_module_version": "1.2.0",
          "state": {
            "_model_module": "@jupyter-widgets/base",
            "_model_module_version": "1.2.0",
            "_model_name": "LayoutModel",
            "_view_count": null,
            "_view_module": "@jupyter-widgets/base",
            "_view_module_version": "1.2.0",
            "_view_name": "LayoutView",
            "align_content": null,
            "align_items": null,
            "align_self": null,
            "border": null,
            "bottom": null,
            "display": null,
            "flex": null,
            "flex_flow": null,
            "grid_area": null,
            "grid_auto_columns": null,
            "grid_auto_flow": null,
            "grid_auto_rows": null,
            "grid_column": null,
            "grid_gap": null,
            "grid_row": null,
            "grid_template_areas": null,
            "grid_template_columns": null,
            "grid_template_rows": null,
            "height": null,
            "justify_content": null,
            "justify_items": null,
            "left": null,
            "margin": null,
            "max_height": null,
            "max_width": null,
            "min_height": null,
            "min_width": null,
            "object_fit": null,
            "object_position": null,
            "order": null,
            "overflow": null,
            "overflow_x": null,
            "overflow_y": null,
            "padding": null,
            "right": null,
            "top": null,
            "visibility": null,
            "width": null
          }
        },
        "d615b050fb91478e86adc15cfff2fc76": {
          "model_module": "@jupyter-widgets/controls",
          "model_name": "DescriptionStyleModel",
          "model_module_version": "1.5.0",
          "state": {
            "_model_module": "@jupyter-widgets/controls",
            "_model_module_version": "1.5.0",
            "_model_name": "DescriptionStyleModel",
            "_view_count": null,
            "_view_module": "@jupyter-widgets/base",
            "_view_module_version": "1.2.0",
            "_view_name": "StyleView",
            "description_width": ""
          }
        },
        "42ca3e851e8a45cd89a06db66abd42af": {
          "model_module": "@jupyter-widgets/controls",
          "model_name": "HBoxModel",
          "model_module_version": "1.5.0",
          "state": {
            "_dom_classes": [],
            "_model_module": "@jupyter-widgets/controls",
            "_model_module_version": "1.5.0",
            "_model_name": "HBoxModel",
            "_view_count": null,
            "_view_module": "@jupyter-widgets/controls",
            "_view_module_version": "1.5.0",
            "_view_name": "HBoxView",
            "box_style": "",
            "children": [
              "IPY_MODEL_7800ae2d8233437081b6dca3ffb7ef66",
              "IPY_MODEL_23d147110d6b457ab7305e753717956b",
              "IPY_MODEL_3c65cffc52ab46bc9e49b42d9b17ab2f"
            ],
            "layout": "IPY_MODEL_32ffb3d5d3ed4e94b98553104cd94711"
          }
        },
        "7800ae2d8233437081b6dca3ffb7ef66": {
          "model_module": "@jupyter-widgets/controls",
          "model_name": "HTMLModel",
          "model_module_version": "1.5.0",
          "state": {
            "_dom_classes": [],
            "_model_module": "@jupyter-widgets/controls",
            "_model_module_version": "1.5.0",
            "_model_name": "HTMLModel",
            "_view_count": null,
            "_view_module": "@jupyter-widgets/controls",
            "_view_module_version": "1.5.0",
            "_view_name": "HTMLView",
            "description": "",
            "description_tooltip": null,
            "layout": "IPY_MODEL_98b5d8349b6b401f9276a80608ad2d44",
            "placeholder": "​",
            "style": "IPY_MODEL_e7ace250400c4b77a76a4d9ca5a3ba31",
            "value": "Downloading (…)solve/main/vocab.txt: 100%"
          }
        },
        "23d147110d6b457ab7305e753717956b": {
          "model_module": "@jupyter-widgets/controls",
          "model_name": "FloatProgressModel",
          "model_module_version": "1.5.0",
          "state": {
            "_dom_classes": [],
            "_model_module": "@jupyter-widgets/controls",
            "_model_module_version": "1.5.0",
            "_model_name": "FloatProgressModel",
            "_view_count": null,
            "_view_module": "@jupyter-widgets/controls",
            "_view_module_version": "1.5.0",
            "_view_name": "ProgressView",
            "bar_style": "success",
            "description": "",
            "description_tooltip": null,
            "layout": "IPY_MODEL_c2e81d4622334dadac4bf03ad320d827",
            "max": 871891,
            "min": 0,
            "orientation": "horizontal",
            "style": "IPY_MODEL_94a0e9d0b9bd405db3ffd3f6b29ecbf0",
            "value": 871891
          }
        },
        "3c65cffc52ab46bc9e49b42d9b17ab2f": {
          "model_module": "@jupyter-widgets/controls",
          "model_name": "HTMLModel",
          "model_module_version": "1.5.0",
          "state": {
            "_dom_classes": [],
            "_model_module": "@jupyter-widgets/controls",
            "_model_module_version": "1.5.0",
            "_model_name": "HTMLModel",
            "_view_count": null,
            "_view_module": "@jupyter-widgets/controls",
            "_view_module_version": "1.5.0",
            "_view_name": "HTMLView",
            "description": "",
            "description_tooltip": null,
            "layout": "IPY_MODEL_018f0aa8252349e1bc620ae3718be8b3",
            "placeholder": "​",
            "style": "IPY_MODEL_fd89ec34bf1845ee9f8934d8c7575724",
            "value": " 872k/872k [00:00&lt;00:00, 3.30MB/s]"
          }
        },
        "32ffb3d5d3ed4e94b98553104cd94711": {
          "model_module": "@jupyter-widgets/base",
          "model_name": "LayoutModel",
          "model_module_version": "1.2.0",
          "state": {
            "_model_module": "@jupyter-widgets/base",
            "_model_module_version": "1.2.0",
            "_model_name": "LayoutModel",
            "_view_count": null,
            "_view_module": "@jupyter-widgets/base",
            "_view_module_version": "1.2.0",
            "_view_name": "LayoutView",
            "align_content": null,
            "align_items": null,
            "align_self": null,
            "border": null,
            "bottom": null,
            "display": null,
            "flex": null,
            "flex_flow": null,
            "grid_area": null,
            "grid_auto_columns": null,
            "grid_auto_flow": null,
            "grid_auto_rows": null,
            "grid_column": null,
            "grid_gap": null,
            "grid_row": null,
            "grid_template_areas": null,
            "grid_template_columns": null,
            "grid_template_rows": null,
            "height": null,
            "justify_content": null,
            "justify_items": null,
            "left": null,
            "margin": null,
            "max_height": null,
            "max_width": null,
            "min_height": null,
            "min_width": null,
            "object_fit": null,
            "object_position": null,
            "order": null,
            "overflow": null,
            "overflow_x": null,
            "overflow_y": null,
            "padding": null,
            "right": null,
            "top": null,
            "visibility": null,
            "width": null
          }
        },
        "98b5d8349b6b401f9276a80608ad2d44": {
          "model_module": "@jupyter-widgets/base",
          "model_name": "LayoutModel",
          "model_module_version": "1.2.0",
          "state": {
            "_model_module": "@jupyter-widgets/base",
            "_model_module_version": "1.2.0",
            "_model_name": "LayoutModel",
            "_view_count": null,
            "_view_module": "@jupyter-widgets/base",
            "_view_module_version": "1.2.0",
            "_view_name": "LayoutView",
            "align_content": null,
            "align_items": null,
            "align_self": null,
            "border": null,
            "bottom": null,
            "display": null,
            "flex": null,
            "flex_flow": null,
            "grid_area": null,
            "grid_auto_columns": null,
            "grid_auto_flow": null,
            "grid_auto_rows": null,
            "grid_column": null,
            "grid_gap": null,
            "grid_row": null,
            "grid_template_areas": null,
            "grid_template_columns": null,
            "grid_template_rows": null,
            "height": null,
            "justify_content": null,
            "justify_items": null,
            "left": null,
            "margin": null,
            "max_height": null,
            "max_width": null,
            "min_height": null,
            "min_width": null,
            "object_fit": null,
            "object_position": null,
            "order": null,
            "overflow": null,
            "overflow_x": null,
            "overflow_y": null,
            "padding": null,
            "right": null,
            "top": null,
            "visibility": null,
            "width": null
          }
        },
        "e7ace250400c4b77a76a4d9ca5a3ba31": {
          "model_module": "@jupyter-widgets/controls",
          "model_name": "DescriptionStyleModel",
          "model_module_version": "1.5.0",
          "state": {
            "_model_module": "@jupyter-widgets/controls",
            "_model_module_version": "1.5.0",
            "_model_name": "DescriptionStyleModel",
            "_view_count": null,
            "_view_module": "@jupyter-widgets/base",
            "_view_module_version": "1.2.0",
            "_view_name": "StyleView",
            "description_width": ""
          }
        },
        "c2e81d4622334dadac4bf03ad320d827": {
          "model_module": "@jupyter-widgets/base",
          "model_name": "LayoutModel",
          "model_module_version": "1.2.0",
          "state": {
            "_model_module": "@jupyter-widgets/base",
            "_model_module_version": "1.2.0",
            "_model_name": "LayoutModel",
            "_view_count": null,
            "_view_module": "@jupyter-widgets/base",
            "_view_module_version": "1.2.0",
            "_view_name": "LayoutView",
            "align_content": null,
            "align_items": null,
            "align_self": null,
            "border": null,
            "bottom": null,
            "display": null,
            "flex": null,
            "flex_flow": null,
            "grid_area": null,
            "grid_auto_columns": null,
            "grid_auto_flow": null,
            "grid_auto_rows": null,
            "grid_column": null,
            "grid_gap": null,
            "grid_row": null,
            "grid_template_areas": null,
            "grid_template_columns": null,
            "grid_template_rows": null,
            "height": null,
            "justify_content": null,
            "justify_items": null,
            "left": null,
            "margin": null,
            "max_height": null,
            "max_width": null,
            "min_height": null,
            "min_width": null,
            "object_fit": null,
            "object_position": null,
            "order": null,
            "overflow": null,
            "overflow_x": null,
            "overflow_y": null,
            "padding": null,
            "right": null,
            "top": null,
            "visibility": null,
            "width": null
          }
        },
        "94a0e9d0b9bd405db3ffd3f6b29ecbf0": {
          "model_module": "@jupyter-widgets/controls",
          "model_name": "ProgressStyleModel",
          "model_module_version": "1.5.0",
          "state": {
            "_model_module": "@jupyter-widgets/controls",
            "_model_module_version": "1.5.0",
            "_model_name": "ProgressStyleModel",
            "_view_count": null,
            "_view_module": "@jupyter-widgets/base",
            "_view_module_version": "1.2.0",
            "_view_name": "StyleView",
            "bar_color": null,
            "description_width": ""
          }
        },
        "018f0aa8252349e1bc620ae3718be8b3": {
          "model_module": "@jupyter-widgets/base",
          "model_name": "LayoutModel",
          "model_module_version": "1.2.0",
          "state": {
            "_model_module": "@jupyter-widgets/base",
            "_model_module_version": "1.2.0",
            "_model_name": "LayoutModel",
            "_view_count": null,
            "_view_module": "@jupyter-widgets/base",
            "_view_module_version": "1.2.0",
            "_view_name": "LayoutView",
            "align_content": null,
            "align_items": null,
            "align_self": null,
            "border": null,
            "bottom": null,
            "display": null,
            "flex": null,
            "flex_flow": null,
            "grid_area": null,
            "grid_auto_columns": null,
            "grid_auto_flow": null,
            "grid_auto_rows": null,
            "grid_column": null,
            "grid_gap": null,
            "grid_row": null,
            "grid_template_areas": null,
            "grid_template_columns": null,
            "grid_template_rows": null,
            "height": null,
            "justify_content": null,
            "justify_items": null,
            "left": null,
            "margin": null,
            "max_height": null,
            "max_width": null,
            "min_height": null,
            "min_width": null,
            "object_fit": null,
            "object_position": null,
            "order": null,
            "overflow": null,
            "overflow_x": null,
            "overflow_y": null,
            "padding": null,
            "right": null,
            "top": null,
            "visibility": null,
            "width": null
          }
        },
        "fd89ec34bf1845ee9f8934d8c7575724": {
          "model_module": "@jupyter-widgets/controls",
          "model_name": "DescriptionStyleModel",
          "model_module_version": "1.5.0",
          "state": {
            "_model_module": "@jupyter-widgets/controls",
            "_model_module_version": "1.5.0",
            "_model_name": "DescriptionStyleModel",
            "_view_count": null,
            "_view_module": "@jupyter-widgets/base",
            "_view_module_version": "1.2.0",
            "_view_name": "StyleView",
            "description_width": ""
          }
        },
        "f4a9abf3cb974ee184a09c21f1de01fd": {
          "model_module": "@jupyter-widgets/controls",
          "model_name": "HBoxModel",
          "model_module_version": "1.5.0",
          "state": {
            "_dom_classes": [],
            "_model_module": "@jupyter-widgets/controls",
            "_model_module_version": "1.5.0",
            "_model_name": "HBoxModel",
            "_view_count": null,
            "_view_module": "@jupyter-widgets/controls",
            "_view_module_version": "1.5.0",
            "_view_name": "HBoxView",
            "box_style": "",
            "children": [
              "IPY_MODEL_556a841a2048474e95546485ef65870d",
              "IPY_MODEL_a48335c1678445c6b0015f5eb23c20ac",
              "IPY_MODEL_e92d485b59d542b394d5d5472f5e2374"
            ],
            "layout": "IPY_MODEL_710c1dffe236436dbf30227038902ee4"
          }
        },
        "556a841a2048474e95546485ef65870d": {
          "model_module": "@jupyter-widgets/controls",
          "model_name": "HTMLModel",
          "model_module_version": "1.5.0",
          "state": {
            "_dom_classes": [],
            "_model_module": "@jupyter-widgets/controls",
            "_model_module_version": "1.5.0",
            "_model_name": "HTMLModel",
            "_view_count": null,
            "_view_module": "@jupyter-widgets/controls",
            "_view_module_version": "1.5.0",
            "_view_name": "HTMLView",
            "description": "",
            "description_tooltip": null,
            "layout": "IPY_MODEL_9a595e215eb24178ba398170956c5f6f",
            "placeholder": "​",
            "style": "IPY_MODEL_54ac607caf5847f184e47420c7da39f6",
            "value": "Downloading (…)cial_tokens_map.json: 100%"
          }
        },
        "a48335c1678445c6b0015f5eb23c20ac": {
          "model_module": "@jupyter-widgets/controls",
          "model_name": "FloatProgressModel",
          "model_module_version": "1.5.0",
          "state": {
            "_dom_classes": [],
            "_model_module": "@jupyter-widgets/controls",
            "_model_module_version": "1.5.0",
            "_model_name": "FloatProgressModel",
            "_view_count": null,
            "_view_module": "@jupyter-widgets/controls",
            "_view_module_version": "1.5.0",
            "_view_name": "ProgressView",
            "bar_style": "success",
            "description": "",
            "description_tooltip": null,
            "layout": "IPY_MODEL_a8bed36a27c3445783dd1d70bf667669",
            "max": 112,
            "min": 0,
            "orientation": "horizontal",
            "style": "IPY_MODEL_7a9594b550c54f30b9309ef5b42b8d96",
            "value": 112
          }
        },
        "e92d485b59d542b394d5d5472f5e2374": {
          "model_module": "@jupyter-widgets/controls",
          "model_name": "HTMLModel",
          "model_module_version": "1.5.0",
          "state": {
            "_dom_classes": [],
            "_model_module": "@jupyter-widgets/controls",
            "_model_module_version": "1.5.0",
            "_model_name": "HTMLModel",
            "_view_count": null,
            "_view_module": "@jupyter-widgets/controls",
            "_view_module_version": "1.5.0",
            "_view_name": "HTMLView",
            "description": "",
            "description_tooltip": null,
            "layout": "IPY_MODEL_15a8db660725457cb6063d22ce761168",
            "placeholder": "​",
            "style": "IPY_MODEL_f15df513e1d34ace8d4f609a0929894d",
            "value": " 112/112 [00:00&lt;00:00, 1.38kB/s]"
          }
        },
        "710c1dffe236436dbf30227038902ee4": {
          "model_module": "@jupyter-widgets/base",
          "model_name": "LayoutModel",
          "model_module_version": "1.2.0",
          "state": {
            "_model_module": "@jupyter-widgets/base",
            "_model_module_version": "1.2.0",
            "_model_name": "LayoutModel",
            "_view_count": null,
            "_view_module": "@jupyter-widgets/base",
            "_view_module_version": "1.2.0",
            "_view_name": "LayoutView",
            "align_content": null,
            "align_items": null,
            "align_self": null,
            "border": null,
            "bottom": null,
            "display": null,
            "flex": null,
            "flex_flow": null,
            "grid_area": null,
            "grid_auto_columns": null,
            "grid_auto_flow": null,
            "grid_auto_rows": null,
            "grid_column": null,
            "grid_gap": null,
            "grid_row": null,
            "grid_template_areas": null,
            "grid_template_columns": null,
            "grid_template_rows": null,
            "height": null,
            "justify_content": null,
            "justify_items": null,
            "left": null,
            "margin": null,
            "max_height": null,
            "max_width": null,
            "min_height": null,
            "min_width": null,
            "object_fit": null,
            "object_position": null,
            "order": null,
            "overflow": null,
            "overflow_x": null,
            "overflow_y": null,
            "padding": null,
            "right": null,
            "top": null,
            "visibility": null,
            "width": null
          }
        },
        "9a595e215eb24178ba398170956c5f6f": {
          "model_module": "@jupyter-widgets/base",
          "model_name": "LayoutModel",
          "model_module_version": "1.2.0",
          "state": {
            "_model_module": "@jupyter-widgets/base",
            "_model_module_version": "1.2.0",
            "_model_name": "LayoutModel",
            "_view_count": null,
            "_view_module": "@jupyter-widgets/base",
            "_view_module_version": "1.2.0",
            "_view_name": "LayoutView",
            "align_content": null,
            "align_items": null,
            "align_self": null,
            "border": null,
            "bottom": null,
            "display": null,
            "flex": null,
            "flex_flow": null,
            "grid_area": null,
            "grid_auto_columns": null,
            "grid_auto_flow": null,
            "grid_auto_rows": null,
            "grid_column": null,
            "grid_gap": null,
            "grid_row": null,
            "grid_template_areas": null,
            "grid_template_columns": null,
            "grid_template_rows": null,
            "height": null,
            "justify_content": null,
            "justify_items": null,
            "left": null,
            "margin": null,
            "max_height": null,
            "max_width": null,
            "min_height": null,
            "min_width": null,
            "object_fit": null,
            "object_position": null,
            "order": null,
            "overflow": null,
            "overflow_x": null,
            "overflow_y": null,
            "padding": null,
            "right": null,
            "top": null,
            "visibility": null,
            "width": null
          }
        },
        "54ac607caf5847f184e47420c7da39f6": {
          "model_module": "@jupyter-widgets/controls",
          "model_name": "DescriptionStyleModel",
          "model_module_version": "1.5.0",
          "state": {
            "_model_module": "@jupyter-widgets/controls",
            "_model_module_version": "1.5.0",
            "_model_name": "DescriptionStyleModel",
            "_view_count": null,
            "_view_module": "@jupyter-widgets/base",
            "_view_module_version": "1.2.0",
            "_view_name": "StyleView",
            "description_width": ""
          }
        },
        "a8bed36a27c3445783dd1d70bf667669": {
          "model_module": "@jupyter-widgets/base",
          "model_name": "LayoutModel",
          "model_module_version": "1.2.0",
          "state": {
            "_model_module": "@jupyter-widgets/base",
            "_model_module_version": "1.2.0",
            "_model_name": "LayoutModel",
            "_view_count": null,
            "_view_module": "@jupyter-widgets/base",
            "_view_module_version": "1.2.0",
            "_view_name": "LayoutView",
            "align_content": null,
            "align_items": null,
            "align_self": null,
            "border": null,
            "bottom": null,
            "display": null,
            "flex": null,
            "flex_flow": null,
            "grid_area": null,
            "grid_auto_columns": null,
            "grid_auto_flow": null,
            "grid_auto_rows": null,
            "grid_column": null,
            "grid_gap": null,
            "grid_row": null,
            "grid_template_areas": null,
            "grid_template_columns": null,
            "grid_template_rows": null,
            "height": null,
            "justify_content": null,
            "justify_items": null,
            "left": null,
            "margin": null,
            "max_height": null,
            "max_width": null,
            "min_height": null,
            "min_width": null,
            "object_fit": null,
            "object_position": null,
            "order": null,
            "overflow": null,
            "overflow_x": null,
            "overflow_y": null,
            "padding": null,
            "right": null,
            "top": null,
            "visibility": null,
            "width": null
          }
        },
        "7a9594b550c54f30b9309ef5b42b8d96": {
          "model_module": "@jupyter-widgets/controls",
          "model_name": "ProgressStyleModel",
          "model_module_version": "1.5.0",
          "state": {
            "_model_module": "@jupyter-widgets/controls",
            "_model_module_version": "1.5.0",
            "_model_name": "ProgressStyleModel",
            "_view_count": null,
            "_view_module": "@jupyter-widgets/base",
            "_view_module_version": "1.2.0",
            "_view_name": "StyleView",
            "bar_color": null,
            "description_width": ""
          }
        },
        "15a8db660725457cb6063d22ce761168": {
          "model_module": "@jupyter-widgets/base",
          "model_name": "LayoutModel",
          "model_module_version": "1.2.0",
          "state": {
            "_model_module": "@jupyter-widgets/base",
            "_model_module_version": "1.2.0",
            "_model_name": "LayoutModel",
            "_view_count": null,
            "_view_module": "@jupyter-widgets/base",
            "_view_module_version": "1.2.0",
            "_view_name": "LayoutView",
            "align_content": null,
            "align_items": null,
            "align_self": null,
            "border": null,
            "bottom": null,
            "display": null,
            "flex": null,
            "flex_flow": null,
            "grid_area": null,
            "grid_auto_columns": null,
            "grid_auto_flow": null,
            "grid_auto_rows": null,
            "grid_column": null,
            "grid_gap": null,
            "grid_row": null,
            "grid_template_areas": null,
            "grid_template_columns": null,
            "grid_template_rows": null,
            "height": null,
            "justify_content": null,
            "justify_items": null,
            "left": null,
            "margin": null,
            "max_height": null,
            "max_width": null,
            "min_height": null,
            "min_width": null,
            "object_fit": null,
            "object_position": null,
            "order": null,
            "overflow": null,
            "overflow_x": null,
            "overflow_y": null,
            "padding": null,
            "right": null,
            "top": null,
            "visibility": null,
            "width": null
          }
        },
        "f15df513e1d34ace8d4f609a0929894d": {
          "model_module": "@jupyter-widgets/controls",
          "model_name": "DescriptionStyleModel",
          "model_module_version": "1.5.0",
          "state": {
            "_model_module": "@jupyter-widgets/controls",
            "_model_module_version": "1.5.0",
            "_model_name": "DescriptionStyleModel",
            "_view_count": null,
            "_view_module": "@jupyter-widgets/base",
            "_view_module_version": "1.2.0",
            "_view_name": "StyleView",
            "description_width": ""
          }
        },
        "4e5adc47f7c64258a27eb8a732fb5c9d": {
          "model_module": "@jupyter-widgets/controls",
          "model_name": "HBoxModel",
          "model_module_version": "1.5.0",
          "state": {
            "_dom_classes": [],
            "_model_module": "@jupyter-widgets/controls",
            "_model_module_version": "1.5.0",
            "_model_name": "HBoxModel",
            "_view_count": null,
            "_view_module": "@jupyter-widgets/controls",
            "_view_module_version": "1.5.0",
            "_view_name": "HBoxView",
            "box_style": "",
            "children": [
              "IPY_MODEL_d9dea66aa61e4e4f8e2e85d22d7e4fdf",
              "IPY_MODEL_6d962a44b23145aba943095746ee550d",
              "IPY_MODEL_b676481b82fb4baeb09b06b1579fd623"
            ],
            "layout": "IPY_MODEL_29906c840521485c845b8ac4537a005c"
          }
        },
        "d9dea66aa61e4e4f8e2e85d22d7e4fdf": {
          "model_module": "@jupyter-widgets/controls",
          "model_name": "HTMLModel",
          "model_module_version": "1.5.0",
          "state": {
            "_dom_classes": [],
            "_model_module": "@jupyter-widgets/controls",
            "_model_module_version": "1.5.0",
            "_model_name": "HTMLModel",
            "_view_count": null,
            "_view_module": "@jupyter-widgets/controls",
            "_view_module_version": "1.5.0",
            "_view_name": "HTMLView",
            "description": "",
            "description_tooltip": null,
            "layout": "IPY_MODEL_b096266b700442a6a72e5575191213a0",
            "placeholder": "​",
            "style": "IPY_MODEL_d43a70ffb1a0410886b7730c1878a8f4",
            "value": "Downloading pytorch_model.bin: 100%"
          }
        },
        "6d962a44b23145aba943095746ee550d": {
          "model_module": "@jupyter-widgets/controls",
          "model_name": "FloatProgressModel",
          "model_module_version": "1.5.0",
          "state": {
            "_dom_classes": [],
            "_model_module": "@jupyter-widgets/controls",
            "_model_module_version": "1.5.0",
            "_model_name": "FloatProgressModel",
            "_view_count": null,
            "_view_module": "@jupyter-widgets/controls",
            "_view_module_version": "1.5.0",
            "_view_name": "ProgressView",
            "bar_style": "success",
            "description": "",
            "description_tooltip": null,
            "layout": "IPY_MODEL_578f766cf8a544638f084c14daf85daf",
            "max": 669491321,
            "min": 0,
            "orientation": "horizontal",
            "style": "IPY_MODEL_31372a0815ed41ceaf307d7d10b12107",
            "value": 669491321
          }
        },
        "b676481b82fb4baeb09b06b1579fd623": {
          "model_module": "@jupyter-widgets/controls",
          "model_name": "HTMLModel",
          "model_module_version": "1.5.0",
          "state": {
            "_dom_classes": [],
            "_model_module": "@jupyter-widgets/controls",
            "_model_module_version": "1.5.0",
            "_model_name": "HTMLModel",
            "_view_count": null,
            "_view_module": "@jupyter-widgets/controls",
            "_view_module_version": "1.5.0",
            "_view_name": "HTMLView",
            "description": "",
            "description_tooltip": null,
            "layout": "IPY_MODEL_e76381d4177040a5a9c2ba05c8435e92",
            "placeholder": "​",
            "style": "IPY_MODEL_cef1832a97fb49399c5f3be67b3d295a",
            "value": " 669M/669M [00:10&lt;00:00, 74.8MB/s]"
          }
        },
        "29906c840521485c845b8ac4537a005c": {
          "model_module": "@jupyter-widgets/base",
          "model_name": "LayoutModel",
          "model_module_version": "1.2.0",
          "state": {
            "_model_module": "@jupyter-widgets/base",
            "_model_module_version": "1.2.0",
            "_model_name": "LayoutModel",
            "_view_count": null,
            "_view_module": "@jupyter-widgets/base",
            "_view_module_version": "1.2.0",
            "_view_name": "LayoutView",
            "align_content": null,
            "align_items": null,
            "align_self": null,
            "border": null,
            "bottom": null,
            "display": null,
            "flex": null,
            "flex_flow": null,
            "grid_area": null,
            "grid_auto_columns": null,
            "grid_auto_flow": null,
            "grid_auto_rows": null,
            "grid_column": null,
            "grid_gap": null,
            "grid_row": null,
            "grid_template_areas": null,
            "grid_template_columns": null,
            "grid_template_rows": null,
            "height": null,
            "justify_content": null,
            "justify_items": null,
            "left": null,
            "margin": null,
            "max_height": null,
            "max_width": null,
            "min_height": null,
            "min_width": null,
            "object_fit": null,
            "object_position": null,
            "order": null,
            "overflow": null,
            "overflow_x": null,
            "overflow_y": null,
            "padding": null,
            "right": null,
            "top": null,
            "visibility": null,
            "width": null
          }
        },
        "b096266b700442a6a72e5575191213a0": {
          "model_module": "@jupyter-widgets/base",
          "model_name": "LayoutModel",
          "model_module_version": "1.2.0",
          "state": {
            "_model_module": "@jupyter-widgets/base",
            "_model_module_version": "1.2.0",
            "_model_name": "LayoutModel",
            "_view_count": null,
            "_view_module": "@jupyter-widgets/base",
            "_view_module_version": "1.2.0",
            "_view_name": "LayoutView",
            "align_content": null,
            "align_items": null,
            "align_self": null,
            "border": null,
            "bottom": null,
            "display": null,
            "flex": null,
            "flex_flow": null,
            "grid_area": null,
            "grid_auto_columns": null,
            "grid_auto_flow": null,
            "grid_auto_rows": null,
            "grid_column": null,
            "grid_gap": null,
            "grid_row": null,
            "grid_template_areas": null,
            "grid_template_columns": null,
            "grid_template_rows": null,
            "height": null,
            "justify_content": null,
            "justify_items": null,
            "left": null,
            "margin": null,
            "max_height": null,
            "max_width": null,
            "min_height": null,
            "min_width": null,
            "object_fit": null,
            "object_position": null,
            "order": null,
            "overflow": null,
            "overflow_x": null,
            "overflow_y": null,
            "padding": null,
            "right": null,
            "top": null,
            "visibility": null,
            "width": null
          }
        },
        "d43a70ffb1a0410886b7730c1878a8f4": {
          "model_module": "@jupyter-widgets/controls",
          "model_name": "DescriptionStyleModel",
          "model_module_version": "1.5.0",
          "state": {
            "_model_module": "@jupyter-widgets/controls",
            "_model_module_version": "1.5.0",
            "_model_name": "DescriptionStyleModel",
            "_view_count": null,
            "_view_module": "@jupyter-widgets/base",
            "_view_module_version": "1.2.0",
            "_view_name": "StyleView",
            "description_width": ""
          }
        },
        "578f766cf8a544638f084c14daf85daf": {
          "model_module": "@jupyter-widgets/base",
          "model_name": "LayoutModel",
          "model_module_version": "1.2.0",
          "state": {
            "_model_module": "@jupyter-widgets/base",
            "_model_module_version": "1.2.0",
            "_model_name": "LayoutModel",
            "_view_count": null,
            "_view_module": "@jupyter-widgets/base",
            "_view_module_version": "1.2.0",
            "_view_name": "LayoutView",
            "align_content": null,
            "align_items": null,
            "align_self": null,
            "border": null,
            "bottom": null,
            "display": null,
            "flex": null,
            "flex_flow": null,
            "grid_area": null,
            "grid_auto_columns": null,
            "grid_auto_flow": null,
            "grid_auto_rows": null,
            "grid_column": null,
            "grid_gap": null,
            "grid_row": null,
            "grid_template_areas": null,
            "grid_template_columns": null,
            "grid_template_rows": null,
            "height": null,
            "justify_content": null,
            "justify_items": null,
            "left": null,
            "margin": null,
            "max_height": null,
            "max_width": null,
            "min_height": null,
            "min_width": null,
            "object_fit": null,
            "object_position": null,
            "order": null,
            "overflow": null,
            "overflow_x": null,
            "overflow_y": null,
            "padding": null,
            "right": null,
            "top": null,
            "visibility": null,
            "width": null
          }
        },
        "31372a0815ed41ceaf307d7d10b12107": {
          "model_module": "@jupyter-widgets/controls",
          "model_name": "ProgressStyleModel",
          "model_module_version": "1.5.0",
          "state": {
            "_model_module": "@jupyter-widgets/controls",
            "_model_module_version": "1.5.0",
            "_model_name": "ProgressStyleModel",
            "_view_count": null,
            "_view_module": "@jupyter-widgets/base",
            "_view_module_version": "1.2.0",
            "_view_name": "StyleView",
            "bar_color": null,
            "description_width": ""
          }
        },
        "e76381d4177040a5a9c2ba05c8435e92": {
          "model_module": "@jupyter-widgets/base",
          "model_name": "LayoutModel",
          "model_module_version": "1.2.0",
          "state": {
            "_model_module": "@jupyter-widgets/base",
            "_model_module_version": "1.2.0",
            "_model_name": "LayoutModel",
            "_view_count": null,
            "_view_module": "@jupyter-widgets/base",
            "_view_module_version": "1.2.0",
            "_view_name": "LayoutView",
            "align_content": null,
            "align_items": null,
            "align_self": null,
            "border": null,
            "bottom": null,
            "display": null,
            "flex": null,
            "flex_flow": null,
            "grid_area": null,
            "grid_auto_columns": null,
            "grid_auto_flow": null,
            "grid_auto_rows": null,
            "grid_column": null,
            "grid_gap": null,
            "grid_row": null,
            "grid_template_areas": null,
            "grid_template_columns": null,
            "grid_template_rows": null,
            "height": null,
            "justify_content": null,
            "justify_items": null,
            "left": null,
            "margin": null,
            "max_height": null,
            "max_width": null,
            "min_height": null,
            "min_width": null,
            "object_fit": null,
            "object_position": null,
            "order": null,
            "overflow": null,
            "overflow_x": null,
            "overflow_y": null,
            "padding": null,
            "right": null,
            "top": null,
            "visibility": null,
            "width": null
          }
        },
        "cef1832a97fb49399c5f3be67b3d295a": {
          "model_module": "@jupyter-widgets/controls",
          "model_name": "DescriptionStyleModel",
          "model_module_version": "1.5.0",
          "state": {
            "_model_module": "@jupyter-widgets/controls",
            "_model_module_version": "1.5.0",
            "_model_name": "DescriptionStyleModel",
            "_view_count": null,
            "_view_module": "@jupyter-widgets/base",
            "_view_module_version": "1.2.0",
            "_view_name": "StyleView",
            "description_width": ""
          }
        }
      }
    }
  },
  "cells": [
    {
      "cell_type": "markdown",
      "metadata": {
        "id": "view-in-github",
        "colab_type": "text"
      },
      "source": [
        "<a href=\"https://colab.research.google.com/github/ps08022009/nlp-with-bert-model/blob/main/NLP_Bert_Model.ipynb\" target=\"_parent\"><img src=\"https://colab.research.google.com/assets/colab-badge.svg\" alt=\"Open In Colab\"/></a>"
      ]
    },
    {
      "cell_type": "markdown",
      "source": [
        "#Import"
      ],
      "metadata": {
        "id": "jTf99BHHmqwg"
      }
    },
    {
      "cell_type": "code",
      "source": [
        "!pip install torch torchvision torchaudio"
      ],
      "metadata": {
        "colab": {
          "base_uri": "https://localhost:8080/"
        },
        "id": "FqSZeQoVnRyK",
        "outputId": "62e76f6c-21b0-438b-e58c-39d2f3e531d0"
      },
      "execution_count": 2,
      "outputs": [
        {
          "output_type": "stream",
          "name": "stdout",
          "text": [
            "Requirement already satisfied: torch in /usr/local/lib/python3.10/dist-packages (2.0.1+cu118)\n",
            "Requirement already satisfied: torchvision in /usr/local/lib/python3.10/dist-packages (0.15.2+cu118)\n",
            "Requirement already satisfied: torchaudio in /usr/local/lib/python3.10/dist-packages (2.0.2+cu118)\n",
            "Requirement already satisfied: filelock in /usr/local/lib/python3.10/dist-packages (from torch) (3.12.2)\n",
            "Requirement already satisfied: typing-extensions in /usr/local/lib/python3.10/dist-packages (from torch) (4.7.1)\n",
            "Requirement already satisfied: sympy in /usr/local/lib/python3.10/dist-packages (from torch) (1.11.1)\n",
            "Requirement already satisfied: networkx in /usr/local/lib/python3.10/dist-packages (from torch) (3.1)\n",
            "Requirement already satisfied: jinja2 in /usr/local/lib/python3.10/dist-packages (from torch) (3.1.2)\n",
            "Requirement already satisfied: triton==2.0.0 in /usr/local/lib/python3.10/dist-packages (from torch) (2.0.0)\n",
            "Requirement already satisfied: cmake in /usr/local/lib/python3.10/dist-packages (from triton==2.0.0->torch) (3.25.2)\n",
            "Requirement already satisfied: lit in /usr/local/lib/python3.10/dist-packages (from triton==2.0.0->torch) (16.0.6)\n",
            "Requirement already satisfied: numpy in /usr/local/lib/python3.10/dist-packages (from torchvision) (1.22.4)\n",
            "Requirement already satisfied: requests in /usr/local/lib/python3.10/dist-packages (from torchvision) (2.27.1)\n",
            "Requirement already satisfied: pillow!=8.3.*,>=5.3.0 in /usr/local/lib/python3.10/dist-packages (from torchvision) (8.4.0)\n",
            "Requirement already satisfied: MarkupSafe>=2.0 in /usr/local/lib/python3.10/dist-packages (from jinja2->torch) (2.1.3)\n",
            "Requirement already satisfied: urllib3<1.27,>=1.21.1 in /usr/local/lib/python3.10/dist-packages (from requests->torchvision) (1.26.16)\n",
            "Requirement already satisfied: certifi>=2017.4.17 in /usr/local/lib/python3.10/dist-packages (from requests->torchvision) (2023.5.7)\n",
            "Requirement already satisfied: charset-normalizer~=2.0.0 in /usr/local/lib/python3.10/dist-packages (from requests->torchvision) (2.0.12)\n",
            "Requirement already satisfied: idna<4,>=2.5 in /usr/local/lib/python3.10/dist-packages (from requests->torchvision) (3.4)\n",
            "Requirement already satisfied: mpmath>=0.19 in /usr/local/lib/python3.10/dist-packages (from sympy->torch) (1.3.0)\n"
          ]
        }
      ]
    },
    {
      "cell_type": "code",
      "source": [
        "!pip install transformers requests beautifulsoup4 pandas numpy"
      ],
      "metadata": {
        "colab": {
          "base_uri": "https://localhost:8080/"
        },
        "id": "Olly7_oAnnXT",
        "outputId": "c1a89cb9-5539-492e-ba5b-d8f9275aa53c"
      },
      "execution_count": 3,
      "outputs": [
        {
          "output_type": "stream",
          "name": "stdout",
          "text": [
            "Collecting transformers\n",
            "  Downloading transformers-4.31.0-py3-none-any.whl (7.4 MB)\n",
            "\u001b[2K     \u001b[90m━━━━━━━━━━━━━━━━━━━━━━━━━━━━━━━━━━━━━━━━\u001b[0m \u001b[32m7.4/7.4 MB\u001b[0m \u001b[31m17.8 MB/s\u001b[0m eta \u001b[36m0:00:00\u001b[0m\n",
            "\u001b[?25hRequirement already satisfied: requests in /usr/local/lib/python3.10/dist-packages (2.27.1)\n",
            "Requirement already satisfied: beautifulsoup4 in /usr/local/lib/python3.10/dist-packages (4.11.2)\n",
            "Requirement already satisfied: pandas in /usr/local/lib/python3.10/dist-packages (1.5.3)\n",
            "Requirement already satisfied: numpy in /usr/local/lib/python3.10/dist-packages (1.22.4)\n",
            "Requirement already satisfied: filelock in /usr/local/lib/python3.10/dist-packages (from transformers) (3.12.2)\n",
            "Collecting huggingface-hub<1.0,>=0.14.1 (from transformers)\n",
            "  Downloading huggingface_hub-0.16.4-py3-none-any.whl (268 kB)\n",
            "\u001b[2K     \u001b[90m━━━━━━━━━━━━━━━━━━━━━━━━━━━━━━━━━━━━━━\u001b[0m \u001b[32m268.8/268.8 kB\u001b[0m \u001b[31m22.3 MB/s\u001b[0m eta \u001b[36m0:00:00\u001b[0m\n",
            "\u001b[?25hRequirement already satisfied: packaging>=20.0 in /usr/local/lib/python3.10/dist-packages (from transformers) (23.1)\n",
            "Requirement already satisfied: pyyaml>=5.1 in /usr/local/lib/python3.10/dist-packages (from transformers) (6.0)\n",
            "Requirement already satisfied: regex!=2019.12.17 in /usr/local/lib/python3.10/dist-packages (from transformers) (2022.10.31)\n",
            "Collecting tokenizers!=0.11.3,<0.14,>=0.11.1 (from transformers)\n",
            "  Downloading tokenizers-0.13.3-cp310-cp310-manylinux_2_17_x86_64.manylinux2014_x86_64.whl (7.8 MB)\n",
            "\u001b[2K     \u001b[90m━━━━━━━━━━━━━━━━━━━━━━━━━━━━━━━━━━━━━━━━\u001b[0m \u001b[32m7.8/7.8 MB\u001b[0m \u001b[31m51.3 MB/s\u001b[0m eta \u001b[36m0:00:00\u001b[0m\n",
            "\u001b[?25hCollecting safetensors>=0.3.1 (from transformers)\n",
            "  Downloading safetensors-0.3.1-cp310-cp310-manylinux_2_17_x86_64.manylinux2014_x86_64.whl (1.3 MB)\n",
            "\u001b[2K     \u001b[90m━━━━━━━━━━━━━━━━━━━━━━━━━━━━━━━━━━━━━━━━\u001b[0m \u001b[32m1.3/1.3 MB\u001b[0m \u001b[31m56.8 MB/s\u001b[0m eta \u001b[36m0:00:00\u001b[0m\n",
            "\u001b[?25hRequirement already satisfied: tqdm>=4.27 in /usr/local/lib/python3.10/dist-packages (from transformers) (4.65.0)\n",
            "Requirement already satisfied: urllib3<1.27,>=1.21.1 in /usr/local/lib/python3.10/dist-packages (from requests) (1.26.16)\n",
            "Requirement already satisfied: certifi>=2017.4.17 in /usr/local/lib/python3.10/dist-packages (from requests) (2023.5.7)\n",
            "Requirement already satisfied: charset-normalizer~=2.0.0 in /usr/local/lib/python3.10/dist-packages (from requests) (2.0.12)\n",
            "Requirement already satisfied: idna<4,>=2.5 in /usr/local/lib/python3.10/dist-packages (from requests) (3.4)\n",
            "Requirement already satisfied: soupsieve>1.2 in /usr/local/lib/python3.10/dist-packages (from beautifulsoup4) (2.4.1)\n",
            "Requirement already satisfied: python-dateutil>=2.8.1 in /usr/local/lib/python3.10/dist-packages (from pandas) (2.8.2)\n",
            "Requirement already satisfied: pytz>=2020.1 in /usr/local/lib/python3.10/dist-packages (from pandas) (2022.7.1)\n",
            "Requirement already satisfied: fsspec in /usr/local/lib/python3.10/dist-packages (from huggingface-hub<1.0,>=0.14.1->transformers) (2023.6.0)\n",
            "Requirement already satisfied: typing-extensions>=3.7.4.3 in /usr/local/lib/python3.10/dist-packages (from huggingface-hub<1.0,>=0.14.1->transformers) (4.7.1)\n",
            "Requirement already satisfied: six>=1.5 in /usr/local/lib/python3.10/dist-packages (from python-dateutil>=2.8.1->pandas) (1.16.0)\n",
            "Installing collected packages: tokenizers, safetensors, huggingface-hub, transformers\n",
            "Successfully installed huggingface-hub-0.16.4 safetensors-0.3.1 tokenizers-0.13.3 transformers-4.31.0\n"
          ]
        }
      ]
    },
    {
      "cell_type": "code",
      "source": [
        "from transformers import AutoTokenizer, AutoModelForSequenceClassification\n",
        "import torch\n",
        "import requests\n",
        "from bs4 import BeautifulSoup\n",
        "import re"
      ],
      "metadata": {
        "id": "d4aitgHrn5dd"
      },
      "execution_count": 4,
      "outputs": []
    },
    {
      "cell_type": "markdown",
      "source": [
        "#Instantiate Model"
      ],
      "metadata": {
        "id": "uN5ObDRooDLT"
      }
    },
    {
      "cell_type": "code",
      "source": [
        "tokenizer = AutoTokenizer.from_pretrained('nlptown/bert-base-multilingual-uncased-sentiment')\n",
        "model = AutoModelForSequenceClassification.from_pretrained('nlptown/bert-base-multilingual-uncased-sentiment')"
      ],
      "metadata": {
        "id": "BYSfBwy6oGse",
        "colab": {
          "base_uri": "https://localhost:8080/",
          "height": 177,
          "referenced_widgets": [
            "cc5f4178e6ed432ab9b296205f55c8ac",
            "71703cbf629a4a2ab129f24a282b4fde",
            "251507cf765c4773850c8b6b12c6f6d7",
            "69b5abddc3494155a5e6572ff1809f65",
            "53ffc374151741d19a38478838f97a4c",
            "3dba660447ff403b88064cfbe422b164",
            "eb80a6c6f7d04033a3e9446978e0d1f0",
            "479284b500974d2ca39b7a1527612946",
            "f097c27896fe4dc9bbbd877aa36abf01",
            "290e46421fea43f69978f7666c09f382",
            "a9a338d56d0c4c3588082e67363e9132",
            "bcec752e76054986b0f57561e63db7f4",
            "779b69c6d177477aa7b73506a5d81059",
            "4c7b2424edb64e988e6a4362df46eb25",
            "65c5038c3c6846adb5df3f1d03f61aa4",
            "aa02fa2fc4e64152b727b24eabef4cd5",
            "8fae6597f7834652a05772f52877ce57",
            "aeebfe760610451d84375478b55af5c2",
            "4ab809fb98c343aa8ecc4d9418c91796",
            "8e4d6bd2846c4bf68efa78440257f267",
            "a3ff859a464b48668c5c7de381f8bdf3",
            "d615b050fb91478e86adc15cfff2fc76",
            "42ca3e851e8a45cd89a06db66abd42af",
            "7800ae2d8233437081b6dca3ffb7ef66",
            "23d147110d6b457ab7305e753717956b",
            "3c65cffc52ab46bc9e49b42d9b17ab2f",
            "32ffb3d5d3ed4e94b98553104cd94711",
            "98b5d8349b6b401f9276a80608ad2d44",
            "e7ace250400c4b77a76a4d9ca5a3ba31",
            "c2e81d4622334dadac4bf03ad320d827",
            "94a0e9d0b9bd405db3ffd3f6b29ecbf0",
            "018f0aa8252349e1bc620ae3718be8b3",
            "fd89ec34bf1845ee9f8934d8c7575724",
            "f4a9abf3cb974ee184a09c21f1de01fd",
            "556a841a2048474e95546485ef65870d",
            "a48335c1678445c6b0015f5eb23c20ac",
            "e92d485b59d542b394d5d5472f5e2374",
            "710c1dffe236436dbf30227038902ee4",
            "9a595e215eb24178ba398170956c5f6f",
            "54ac607caf5847f184e47420c7da39f6",
            "a8bed36a27c3445783dd1d70bf667669",
            "7a9594b550c54f30b9309ef5b42b8d96",
            "15a8db660725457cb6063d22ce761168",
            "f15df513e1d34ace8d4f609a0929894d",
            "4e5adc47f7c64258a27eb8a732fb5c9d",
            "d9dea66aa61e4e4f8e2e85d22d7e4fdf",
            "6d962a44b23145aba943095746ee550d",
            "b676481b82fb4baeb09b06b1579fd623",
            "29906c840521485c845b8ac4537a005c",
            "b096266b700442a6a72e5575191213a0",
            "d43a70ffb1a0410886b7730c1878a8f4",
            "578f766cf8a544638f084c14daf85daf",
            "31372a0815ed41ceaf307d7d10b12107",
            "e76381d4177040a5a9c2ba05c8435e92",
            "cef1832a97fb49399c5f3be67b3d295a"
          ]
        },
        "outputId": "e33a8e9c-4d77-40c9-dabe-212bd080ca85"
      },
      "execution_count": 5,
      "outputs": [
        {
          "output_type": "display_data",
          "data": {
            "text/plain": [
              "Downloading (…)okenizer_config.json:   0%|          | 0.00/39.0 [00:00<?, ?B/s]"
            ],
            "application/vnd.jupyter.widget-view+json": {
              "version_major": 2,
              "version_minor": 0,
              "model_id": "cc5f4178e6ed432ab9b296205f55c8ac"
            }
          },
          "metadata": {}
        },
        {
          "output_type": "display_data",
          "data": {
            "text/plain": [
              "Downloading (…)lve/main/config.json:   0%|          | 0.00/953 [00:00<?, ?B/s]"
            ],
            "application/vnd.jupyter.widget-view+json": {
              "version_major": 2,
              "version_minor": 0,
              "model_id": "bcec752e76054986b0f57561e63db7f4"
            }
          },
          "metadata": {}
        },
        {
          "output_type": "display_data",
          "data": {
            "text/plain": [
              "Downloading (…)solve/main/vocab.txt:   0%|          | 0.00/872k [00:00<?, ?B/s]"
            ],
            "application/vnd.jupyter.widget-view+json": {
              "version_major": 2,
              "version_minor": 0,
              "model_id": "42ca3e851e8a45cd89a06db66abd42af"
            }
          },
          "metadata": {}
        },
        {
          "output_type": "display_data",
          "data": {
            "text/plain": [
              "Downloading (…)cial_tokens_map.json:   0%|          | 0.00/112 [00:00<?, ?B/s]"
            ],
            "application/vnd.jupyter.widget-view+json": {
              "version_major": 2,
              "version_minor": 0,
              "model_id": "f4a9abf3cb974ee184a09c21f1de01fd"
            }
          },
          "metadata": {}
        },
        {
          "output_type": "display_data",
          "data": {
            "text/plain": [
              "Downloading pytorch_model.bin:   0%|          | 0.00/669M [00:00<?, ?B/s]"
            ],
            "application/vnd.jupyter.widget-view+json": {
              "version_major": 2,
              "version_minor": 0,
              "model_id": "4e5adc47f7c64258a27eb8a732fb5c9d"
            }
          },
          "metadata": {}
        }
      ]
    },
    {
      "cell_type": "markdown",
      "source": [],
      "metadata": {
        "id": "2vZHYqPCoVlA"
      }
    },
    {
      "cell_type": "markdown",
      "source": [
        "#Calculate Sentiment"
      ],
      "metadata": {
        "id": "vDHz7Z3XoZyR"
      }
    },
    {
      "cell_type": "code",
      "source": [
        "response=input(\"Was the food to your liking? \")"
      ],
      "metadata": {
        "colab": {
          "base_uri": "https://localhost:8080/"
        },
        "id": "YWMGobwqqLc1",
        "outputId": "4d56a036-d638-4748-f8d5-438977764c1b"
      },
      "execution_count": 13,
      "outputs": [
        {
          "name": "stdout",
          "output_type": "stream",
          "text": [
            "Was the food to your liking? no\n"
          ]
        }
      ]
    },
    {
      "cell_type": "code",
      "source": [
        "tokens = tokenizer.encode(response, return_tensors='pt')"
      ],
      "metadata": {
        "id": "yYyDlwZkohy5"
      },
      "execution_count": 14,
      "outputs": []
    },
    {
      "cell_type": "code",
      "source": [
        "result = model(tokens)"
      ],
      "metadata": {
        "id": "84gxephEpbRo"
      },
      "execution_count": 15,
      "outputs": []
    },
    {
      "cell_type": "code",
      "source": [
        "result.logits"
      ],
      "metadata": {
        "colab": {
          "base_uri": "https://localhost:8080/"
        },
        "id": "iNR-jAu7pdu2",
        "outputId": "e91f5ae1-9e71-48bf-d69c-7b69c91b39c7"
      },
      "execution_count": 16,
      "outputs": [
        {
          "output_type": "execute_result",
          "data": {
            "text/plain": [
              "tensor([[ 1.9555,  1.3763,  0.6166, -1.3143, -1.9839]],\n",
              "       grad_fn=<AddmmBackward0>)"
            ]
          },
          "metadata": {},
          "execution_count": 16
        }
      ]
    },
    {
      "cell_type": "code",
      "source": [
        "int(torch.argmax(result.logits))+1"
      ],
      "metadata": {
        "colab": {
          "base_uri": "https://localhost:8080/"
        },
        "id": "2wWzZYqgpf3V",
        "outputId": "501341b5-170f-4abc-f354-57e214e843c1"
      },
      "execution_count": 17,
      "outputs": [
        {
          "output_type": "execute_result",
          "data": {
            "text/plain": [
              "1"
            ]
          },
          "metadata": {},
          "execution_count": 17
        }
      ]
    },
    {
      "cell_type": "markdown",
      "source": [
        "#Collect Reviews\n"
      ],
      "metadata": {
        "id": "lDi1CY20rkYF"
      }
    },
    {
      "cell_type": "code",
      "source": [
        "site = input(\"What website would you like to scrape? \")\n",
        "r = requests.get(site)\n",
        "soup = BeautifulSoup(r.text, 'html.parser')\n",
        "regex = re.compile('.*comment.*')\n",
        "results = soup.find_all('p', {'class':regex})\n",
        "reviews = [result.text for result in results]"
      ],
      "metadata": {
        "colab": {
          "base_uri": "https://localhost:8080/"
        },
        "id": "XeL1VsERrt0-",
        "outputId": "d901291c-7e8b-4965-9e53-0a19f7dbd286"
      },
      "execution_count": 18,
      "outputs": [
        {
          "name": "stdout",
          "output_type": "stream",
          "text": [
            "What website would you like to scrape? https://www.yelp.com/biz/the-landing-renton\n"
          ]
        }
      ]
    },
    {
      "cell_type": "code",
      "source": [
        "reviews"
      ],
      "metadata": {
        "colab": {
          "base_uri": "https://localhost:8080/"
        },
        "id": "PTNMewcIrzFQ",
        "outputId": "d912e2e4-b704-4418-992b-a0d6b08b6c1b"
      },
      "execution_count": 19,
      "outputs": [
        {
          "output_type": "execute_result",
          "data": {
            "text/plain": [
              "[\"It's been 8 years since I reviewed the Landing and that review is very outdated!When I reviewed The Landing last It was still largely a ghost town. The large anchor spaces were filled like Ross, LA Fitness, Red Robin, and The Rock But most of the smaller spaces were vacant. As the years passed and the economy improved more stores and restaurants occupied The Landing to the point I'd wager it is mostly full. They offer some services like medical, dental, chiropractor, and vision while also having a large selection of restaurants. Some of these restaurants are the quick bite variety such as Potbelly Sandwiches and Mucho Burrito while others offer a longer dining experience like Wild Fin or Trenchers. By and large they have more chain restaurants and stores than smaller businesses, and sadly the smaller businesses seem to have the highest turnover. I still miss Pongi Bonsi and the cute chocolate shop. I hear rent there can be very steep. If you want to go to Ross, Target, Marshall's, or other big name stores The Landing will have you covered but if you're going for boutique shopping you're not going to find it here for the most part. I personally love The Landing because it is close by and very convenient. I enjoy Trenchers and Wild Fin especially and now that they have an ice cream shop instead of their numerous froyo shops I'll have another excuse to stop on by!\",\n",
              " \"The Landing as a whole is a pretty part of Renton bringing a slice of commercialism a whole lot closer. The pros are that it offers a variety of shops and restaurants. There are a few different restaurants that offer either quick eat fare or a simple sit down experience. They have some boutique shops, they have some service shops like UPS and AT&T, and they also offer some larger shops like Ross. It even has an LA Fitness and a bank plus an Urgent Care facility. The one major con is that it is largely still empty. There are many empty store fronts. It had the misfortune of opening when the economy tanked and many of the businesses that promised that they would make a home here - Jamba Juice, Starbucks, etc - never materialized. But, at the same time, we got places like Caffe Felice which wouldn't have been able to open if Starbucks hadn't dropped out. In time The Landing can be a great one stop shop. Now, if it only would open a grocery store!\",\n",
              " \"Most of the businesses close by 6 pm on a Sunday so if you are looking for a fun thing to do after 6 on a Sunday, don't come here. Lol. The yogurt store is open and a fun thing to do but not much near the cinema area. There is a Ross, Marshall's and a ulta but that's about it. Plenty of parking just not too much to do on a weekend evening.\",\n",
              " 'Watch out they tow within minutes if you park there and have to go across the street. \\xa0Never shopping there again. \\xa0700 tow bill is bent over pleasure, seems illegal.',\n",
              " \"Clean, Pleasant, Convenient Urban Village style shopping center just off the I-405 freeway (exit 5) at the south end of Lake Washington, next to Seahawks Training Camp, Boeing 737 Max Renton Factory & Gene Coulon Memorial Beach Park, ...and that's where I should probably end my review, as there is nothing here worth driving more than a few miles to see, eat, or do.Notably there are no high end stores, and except for movies there is no entertainment, unless you are wowed by a Boeing 737 green fuselage, Seahawks summer camp, and/or watching Independence Day fireworks at Gene Coulon.There are however, many places to shop & dine, plenty of parking spaces, Regal Stadium 14 & RPX movie theatre, dining options for every taste Mexican, Japanese, American, Thai, Italian, Vietnamese, Seafood, pizza, ice cream, donuts, and more.There are 2 apartment buildings in the middle of the shopping center with 800+ units, 24 Fitness Club, Swedish & Valley/UW Urgent Care, Banfield Pet Hospital (Inside PetSmart), Office Supplies, dentist, Banks, UPS store, and a number of boutiques, including Seahawks/Sounders FC Pro Shop, and a few national retail stores, Dick's Sporting Goods, Ulta beauty, Cost Plus World Market, Marshalls, Ross for less, Target, Fry's and Lowe's\",\n",
              " \"The Landing has been a great addition to Renton! There's plenty of shopping, dinning, and entertainment to choose from; even apartment complexes if you're so inclined to live here. Parking is free and relatively easy to find. If you don't want to go all the way to Seattle on a Friday night, The Landing is not a bad option.\",\n",
              " \"One of my go to places when I'm in town. Great selection of wine and good service. Lots to choose from.\",\n",
              " \"Absolutely nothing there! Just a few shops and a \\xa0restaurant. I was so disappointed because my son had been there a year earlier and said it was great! For the life of me can't remember the name of the restaurant we ate at there but it was to the left of the entrance .It was ok . The grandkids liked there chicken tenders so that always makes me happy !\",\n",
              " \"Very decent location just off I-405 freeway! It is more like an outdoor shopping center, not an indoor mall! Love hanging out here! Lots of parking out there! Has restaurants and shops like Target, Ross, Dick's Sporting Goods, and so on! Across from Fry's Electronics Store!\",\n",
              " \"Love this place. So much shops to go shopping. There's food/restaurants all around. My fav is Ross and Marshals...\",\n",
              " \"Nice outdoor shopping centre in Renton! I hardly visit Renton, but The Landing makes me wanna come back, as the outdoor setup of restaurants and stores all in one setting is convenient and doable! \\xa0The selection isn't large, but you can spend some time here with the businesses they have. \\xa0Plus, there's a theatre here! \\xa0Parking is usually easy to find as there is garage parking, in addition to private lots and street parking. On a personal note, I usually visit The Landing when I'm going to Seahawks Training Camp, as The Landing is the meeting location for when the buses pick you up for VMAC. \\xa0For all those attending the training camp, they give you a book of coupons to use for several of the businesses in The Landing. \\xa0It's a great incentive to visit again because for someone who doesn't often go to Renton, like me, the book of coupons has some great deals and encourages me to try new eateries I haven't been to before. \\xa0Overall, this is a nice outdoor area in Renton with businesses to discover and enjoy.\"]"
            ]
          },
          "metadata": {},
          "execution_count": 19
        }
      ]
    },
    {
      "cell_type": "markdown",
      "source": [
        "#Data Frame"
      ],
      "metadata": {
        "id": "n6yna909sufi"
      }
    },
    {
      "cell_type": "code",
      "source": [
        "import numpy as np\n",
        "import pandas as pd"
      ],
      "metadata": {
        "id": "XjkRxa02sxhn"
      },
      "execution_count": 24,
      "outputs": []
    },
    {
      "cell_type": "code",
      "source": [
        "df = pd.DataFrame(np.array(reviews), columns=['review'])"
      ],
      "metadata": {
        "id": "wTFHWArvs0dI"
      },
      "execution_count": 25,
      "outputs": []
    },
    {
      "cell_type": "code",
      "source": [
        "df['review'].iloc[0]"
      ],
      "metadata": {
        "colab": {
          "base_uri": "https://localhost:8080/",
          "height": 114
        },
        "id": "w2SlZGeHs5OL",
        "outputId": "44d1fe7a-a6f5-40fb-e448-b098bf140c89"
      },
      "execution_count": 26,
      "outputs": [
        {
          "output_type": "execute_result",
          "data": {
            "text/plain": [
              "\"It's been 8 years since I reviewed the Landing and that review is very outdated!When I reviewed The Landing last It was still largely a ghost town. The large anchor spaces were filled like Ross, LA Fitness, Red Robin, and The Rock But most of the smaller spaces were vacant. As the years passed and the economy improved more stores and restaurants occupied The Landing to the point I'd wager it is mostly full. They offer some services like medical, dental, chiropractor, and vision while also having a large selection of restaurants. Some of these restaurants are the quick bite variety such as Potbelly Sandwiches and Mucho Burrito while others offer a longer dining experience like Wild Fin or Trenchers. By and large they have more chain restaurants and stores than smaller businesses, and sadly the smaller businesses seem to have the highest turnover. I still miss Pongi Bonsi and the cute chocolate shop. I hear rent there can be very steep. If you want to go to Ross, Target, Marshall's, or other big name stores The Landing will have you covered but if you're going for boutique shopping you're not going to find it here for the most part. I personally love The Landing because it is close by and very convenient. I enjoy Trenchers and Wild Fin especially and now that they have an ice cream shop instead of their numerous froyo shops I'll have another excuse to stop on by!\""
            ],
            "application/vnd.google.colaboratory.intrinsic+json": {
              "type": "string"
            }
          },
          "metadata": {},
          "execution_count": 26
        }
      ]
    },
    {
      "cell_type": "code",
      "source": [
        "def sentiment_score(review):\n",
        "    tokens = tokenizer.encode(review, return_tensors='pt')\n",
        "    result = model(tokens)\n",
        "    return int(torch.argmax(result.logits))+1"
      ],
      "metadata": {
        "id": "ATWKIrsgs6US"
      },
      "execution_count": 27,
      "outputs": []
    },
    {
      "cell_type": "code",
      "source": [
        "sentiment_score(df['review'].iloc[1])"
      ],
      "metadata": {
        "colab": {
          "base_uri": "https://localhost:8080/"
        },
        "id": "6irRkiogs8tC",
        "outputId": "942f0f1a-3722-4f46-cb99-c4b654386346"
      },
      "execution_count": 28,
      "outputs": [
        {
          "output_type": "execute_result",
          "data": {
            "text/plain": [
              "4"
            ]
          },
          "metadata": {},
          "execution_count": 28
        }
      ]
    },
    {
      "cell_type": "code",
      "source": [
        "df['sentiment'] = df['review'].apply(lambda x: sentiment_score(x[:512]))"
      ],
      "metadata": {
        "id": "1WKwVKUYtAb3"
      },
      "execution_count": 29,
      "outputs": []
    },
    {
      "cell_type": "code",
      "source": [
        "df"
      ],
      "metadata": {
        "colab": {
          "base_uri": "https://localhost:8080/",
          "height": 920
        },
        "id": "MhFKes7ltDQ1",
        "outputId": "a250fba9-4bd0-47d5-a7f9-a0b1c3a33418"
      },
      "execution_count": 32,
      "outputs": [
        {
          "output_type": "execute_result",
          "data": {
            "text/plain": [
              "                                               review  sentiment\n",
              "0   It's been 8 years since I reviewed the Landing...          4\n",
              "1   The Landing as a whole is a pretty part of Ren...          4\n",
              "2   Most of the businesses close by 6 pm on a Sund...          3\n",
              "3   Watch out they tow within minutes if you park ...          1\n",
              "4   Clean, Pleasant, Convenient Urban Village styl...          4\n",
              "5   The Landing has been a great addition to Rento...          4\n",
              "6   One of my go to places when I'm in town. Great...          5\n",
              "7   Absolutely nothing there! Just a few shops and...          2\n",
              "8   Very decent location just off I-405 freeway! I...          4\n",
              "9   Love this place. So much shops to go shopping....          5\n",
              "10  Nice outdoor shopping centre in Renton! I hard...          4"
            ],
            "text/html": [
              "\n",
              "\n",
              "  <div id=\"df-47020572-4ca5-4802-ab43-3200d5a0d73b\">\n",
              "    <div class=\"colab-df-container\">\n",
              "      <div>\n",
              "<style scoped>\n",
              "    .dataframe tbody tr th:only-of-type {\n",
              "        vertical-align: middle;\n",
              "    }\n",
              "\n",
              "    .dataframe tbody tr th {\n",
              "        vertical-align: top;\n",
              "    }\n",
              "\n",
              "    .dataframe thead th {\n",
              "        text-align: right;\n",
              "    }\n",
              "</style>\n",
              "<table border=\"1\" class=\"dataframe\">\n",
              "  <thead>\n",
              "    <tr style=\"text-align: right;\">\n",
              "      <th></th>\n",
              "      <th>review</th>\n",
              "      <th>sentiment</th>\n",
              "    </tr>\n",
              "  </thead>\n",
              "  <tbody>\n",
              "    <tr>\n",
              "      <th>0</th>\n",
              "      <td>It's been 8 years since I reviewed the Landing...</td>\n",
              "      <td>4</td>\n",
              "    </tr>\n",
              "    <tr>\n",
              "      <th>1</th>\n",
              "      <td>The Landing as a whole is a pretty part of Ren...</td>\n",
              "      <td>4</td>\n",
              "    </tr>\n",
              "    <tr>\n",
              "      <th>2</th>\n",
              "      <td>Most of the businesses close by 6 pm on a Sund...</td>\n",
              "      <td>3</td>\n",
              "    </tr>\n",
              "    <tr>\n",
              "      <th>3</th>\n",
              "      <td>Watch out they tow within minutes if you park ...</td>\n",
              "      <td>1</td>\n",
              "    </tr>\n",
              "    <tr>\n",
              "      <th>4</th>\n",
              "      <td>Clean, Pleasant, Convenient Urban Village styl...</td>\n",
              "      <td>4</td>\n",
              "    </tr>\n",
              "    <tr>\n",
              "      <th>5</th>\n",
              "      <td>The Landing has been a great addition to Rento...</td>\n",
              "      <td>4</td>\n",
              "    </tr>\n",
              "    <tr>\n",
              "      <th>6</th>\n",
              "      <td>One of my go to places when I'm in town. Great...</td>\n",
              "      <td>5</td>\n",
              "    </tr>\n",
              "    <tr>\n",
              "      <th>7</th>\n",
              "      <td>Absolutely nothing there! Just a few shops and...</td>\n",
              "      <td>2</td>\n",
              "    </tr>\n",
              "    <tr>\n",
              "      <th>8</th>\n",
              "      <td>Very decent location just off I-405 freeway! I...</td>\n",
              "      <td>4</td>\n",
              "    </tr>\n",
              "    <tr>\n",
              "      <th>9</th>\n",
              "      <td>Love this place. So much shops to go shopping....</td>\n",
              "      <td>5</td>\n",
              "    </tr>\n",
              "    <tr>\n",
              "      <th>10</th>\n",
              "      <td>Nice outdoor shopping centre in Renton! I hard...</td>\n",
              "      <td>4</td>\n",
              "    </tr>\n",
              "  </tbody>\n",
              "</table>\n",
              "</div>\n",
              "      <button class=\"colab-df-convert\" onclick=\"convertToInteractive('df-47020572-4ca5-4802-ab43-3200d5a0d73b')\"\n",
              "              title=\"Convert this dataframe to an interactive table.\"\n",
              "              style=\"display:none;\">\n",
              "\n",
              "  <svg xmlns=\"http://www.w3.org/2000/svg\" height=\"24px\"viewBox=\"0 0 24 24\"\n",
              "       width=\"24px\">\n",
              "    <path d=\"M0 0h24v24H0V0z\" fill=\"none\"/>\n",
              "    <path d=\"M18.56 5.44l.94 2.06.94-2.06 2.06-.94-2.06-.94-.94-2.06-.94 2.06-2.06.94zm-11 1L8.5 8.5l.94-2.06 2.06-.94-2.06-.94L8.5 2.5l-.94 2.06-2.06.94zm10 10l.94 2.06.94-2.06 2.06-.94-2.06-.94-.94-2.06-.94 2.06-2.06.94z\"/><path d=\"M17.41 7.96l-1.37-1.37c-.4-.4-.92-.59-1.43-.59-.52 0-1.04.2-1.43.59L10.3 9.45l-7.72 7.72c-.78.78-.78 2.05 0 2.83L4 21.41c.39.39.9.59 1.41.59.51 0 1.02-.2 1.41-.59l7.78-7.78 2.81-2.81c.8-.78.8-2.07 0-2.86zM5.41 20L4 18.59l7.72-7.72 1.47 1.35L5.41 20z\"/>\n",
              "  </svg>\n",
              "      </button>\n",
              "\n",
              "\n",
              "\n",
              "    <div id=\"df-d9827471-a2b0-4f16-bec9-872a22768a56\">\n",
              "      <button class=\"colab-df-quickchart\" onclick=\"quickchart('df-d9827471-a2b0-4f16-bec9-872a22768a56')\"\n",
              "              title=\"Suggest charts.\"\n",
              "              style=\"display:none;\">\n",
              "\n",
              "<svg xmlns=\"http://www.w3.org/2000/svg\" height=\"24px\"viewBox=\"0 0 24 24\"\n",
              "     width=\"24px\">\n",
              "    <g>\n",
              "        <path d=\"M19 3H5c-1.1 0-2 .9-2 2v14c0 1.1.9 2 2 2h14c1.1 0 2-.9 2-2V5c0-1.1-.9-2-2-2zM9 17H7v-7h2v7zm4 0h-2V7h2v10zm4 0h-2v-4h2v4z\"/>\n",
              "    </g>\n",
              "</svg>\n",
              "      </button>\n",
              "    </div>\n",
              "\n",
              "<style>\n",
              "  .colab-df-quickchart {\n",
              "    background-color: #E8F0FE;\n",
              "    border: none;\n",
              "    border-radius: 50%;\n",
              "    cursor: pointer;\n",
              "    display: none;\n",
              "    fill: #1967D2;\n",
              "    height: 32px;\n",
              "    padding: 0 0 0 0;\n",
              "    width: 32px;\n",
              "  }\n",
              "\n",
              "  .colab-df-quickchart:hover {\n",
              "    background-color: #E2EBFA;\n",
              "    box-shadow: 0px 1px 2px rgba(60, 64, 67, 0.3), 0px 1px 3px 1px rgba(60, 64, 67, 0.15);\n",
              "    fill: #174EA6;\n",
              "  }\n",
              "\n",
              "  [theme=dark] .colab-df-quickchart {\n",
              "    background-color: #3B4455;\n",
              "    fill: #D2E3FC;\n",
              "  }\n",
              "\n",
              "  [theme=dark] .colab-df-quickchart:hover {\n",
              "    background-color: #434B5C;\n",
              "    box-shadow: 0px 1px 3px 1px rgba(0, 0, 0, 0.15);\n",
              "    filter: drop-shadow(0px 1px 2px rgba(0, 0, 0, 0.3));\n",
              "    fill: #FFFFFF;\n",
              "  }\n",
              "</style>\n",
              "\n",
              "    <script>\n",
              "      async function quickchart(key) {\n",
              "        const containerElement = document.querySelector('#' + key);\n",
              "        const charts = await google.colab.kernel.invokeFunction(\n",
              "            'suggestCharts', [key], {});\n",
              "      }\n",
              "    </script>\n",
              "\n",
              "      <script>\n",
              "\n",
              "function displayQuickchartButton(domScope) {\n",
              "  let quickchartButtonEl =\n",
              "    domScope.querySelector('#df-d9827471-a2b0-4f16-bec9-872a22768a56 button.colab-df-quickchart');\n",
              "  quickchartButtonEl.style.display =\n",
              "    google.colab.kernel.accessAllowed ? 'block' : 'none';\n",
              "}\n",
              "\n",
              "        displayQuickchartButton(document);\n",
              "      </script>\n",
              "      <style>\n",
              "    .colab-df-container {\n",
              "      display:flex;\n",
              "      flex-wrap:wrap;\n",
              "      gap: 12px;\n",
              "    }\n",
              "\n",
              "    .colab-df-convert {\n",
              "      background-color: #E8F0FE;\n",
              "      border: none;\n",
              "      border-radius: 50%;\n",
              "      cursor: pointer;\n",
              "      display: none;\n",
              "      fill: #1967D2;\n",
              "      height: 32px;\n",
              "      padding: 0 0 0 0;\n",
              "      width: 32px;\n",
              "    }\n",
              "\n",
              "    .colab-df-convert:hover {\n",
              "      background-color: #E2EBFA;\n",
              "      box-shadow: 0px 1px 2px rgba(60, 64, 67, 0.3), 0px 1px 3px 1px rgba(60, 64, 67, 0.15);\n",
              "      fill: #174EA6;\n",
              "    }\n",
              "\n",
              "    [theme=dark] .colab-df-convert {\n",
              "      background-color: #3B4455;\n",
              "      fill: #D2E3FC;\n",
              "    }\n",
              "\n",
              "    [theme=dark] .colab-df-convert:hover {\n",
              "      background-color: #434B5C;\n",
              "      box-shadow: 0px 1px 3px 1px rgba(0, 0, 0, 0.15);\n",
              "      filter: drop-shadow(0px 1px 2px rgba(0, 0, 0, 0.3));\n",
              "      fill: #FFFFFF;\n",
              "    }\n",
              "  </style>\n",
              "\n",
              "      <script>\n",
              "        const buttonEl =\n",
              "          document.querySelector('#df-47020572-4ca5-4802-ab43-3200d5a0d73b button.colab-df-convert');\n",
              "        buttonEl.style.display =\n",
              "          google.colab.kernel.accessAllowed ? 'block' : 'none';\n",
              "\n",
              "        async function convertToInteractive(key) {\n",
              "          const element = document.querySelector('#df-47020572-4ca5-4802-ab43-3200d5a0d73b');\n",
              "          const dataTable =\n",
              "            await google.colab.kernel.invokeFunction('convertToInteractive',\n",
              "                                                     [key], {});\n",
              "          if (!dataTable) return;\n",
              "\n",
              "          const docLinkHtml = 'Like what you see? Visit the ' +\n",
              "            '<a target=\"_blank\" href=https://colab.research.google.com/notebooks/data_table.ipynb>data table notebook</a>'\n",
              "            + ' to learn more about interactive tables.';\n",
              "          element.innerHTML = '';\n",
              "          dataTable['output_type'] = 'display_data';\n",
              "          await google.colab.output.renderOutput(dataTable, element);\n",
              "          const docLink = document.createElement('div');\n",
              "          docLink.innerHTML = docLinkHtml;\n",
              "          element.appendChild(docLink);\n",
              "        }\n",
              "      </script>\n",
              "    </div>\n",
              "  </div>\n"
            ]
          },
          "metadata": {},
          "execution_count": 32
        },
        {
          "output_type": "display_data",
          "data": {
            "text/plain": [
              "<google.colab._quickchart_helpers.SectionTitle at 0x7aaf8bb50220>"
            ],
            "text/html": [
              "<h4 class=\"colab-quickchart-section-title\">Values</h4>\n",
              "<style>\n",
              "  .colab-quickchart-section-title {\n",
              "      clear: both;\n",
              "  }\n",
              "</style>"
            ]
          },
          "metadata": {}
        },
        {
          "output_type": "display_data",
          "data": {
            "text/plain": [
              "import numpy as np\n",
              "from google.colab import autoviz\n",
              "df_3631793523787470058 = autoviz.get_df('df_3631793523787470058')\n",
              "\n",
              "def value_plot(df, y, sort_ascending=False, figsize=(2, 1)):\n",
              "  from matplotlib import pyplot as plt\n",
              "  if sort_ascending:\n",
              "    df = df.sort_values(y).reset_index(drop=True)\n",
              "  _, ax = plt.subplots(figsize=figsize)\n",
              "  df[y].plot(kind='line')\n",
              "  plt.title(y)\n",
              "  ax.spines[['top', 'right',]].set_visible(False)\n",
              "  plt.tight_layout()\n",
              "  return autoviz.MplChart.from_current_mpl_state()\n",
              "\n",
              "chart = value_plot(df_3631793523787470058, *['sentiment'], **{})\n",
              "chart"
            ],
            "text/html": [
              "      <div class=\"colab-quickchart-chart-with-code\" id=\"chart-337da616-8026-492b-b8a6-c3f0ad5d2bac\">\n",
              "        <img src=\"data:image/png;base64,iVBORw0KGgoAAAANSUhEUgAAAM4AAABgCAYAAABVCU1aAAAAOXRFWHRTb2Z0d2FyZQBNYXRwbG90\n",
              "bGliIHZlcnNpb24zLjcuMSwgaHR0cHM6Ly9tYXRwbG90bGliLm9yZy/bCgiHAAAACXBIWXMAAA9h\n",
              "AAAPYQGoP6dpAAATTElEQVR4nO3de1xUdf7H8dfMcEcuCTKgKHcQ0UAE7yZUriu24GZr/tpW3JVQ\n",
              "0vJW/TY1yy5qpe7Sz8p2a1vNQn4qWpuXNDOvFSoieAFBQcAbeOGqXIb5/v4Y4xeJF4aBGeD7fDzm\n",
              "8XBmznznw/G8Z875nu/5jkIIIZAkqVmUxi5AktojGRxJ0oMMjiTpQQZHkvQggyNJepDBkSQ9yOBI\n",
              "kh5kcCRJDzI4kqQHGZwOYMyYMbzxxhvGLqNTUcghN+1Hfn4+Xl5e5OTk4Ovra+xyGjHl2lqD/MaR\n",
              "JD3I4LSClStX4uPjg52dHWq1msmTJwNQWlpKQkICHh4eODk5ERUVxdmzZxteN3nyZCZOnMiMGTNw\n",
              "cnJCrVbzyiuvNDwfFBQEQHBwMF26dGHatGkAREREsGDBgoblFAoFiYmJDBkyBFtbW4KDg8nMzGT9\n",
              "+vUEBARgb2/PE088QWVlZcNrWqu2DktIBnX69GlhbW0tMjMzhRBCVFRUiD179gitVisiIiLEU089\n",
              "Ja5evSqqq6vFSy+9JAIDA0Vtba0QQojY2FhhYWEhkpKShEajEQcPHhRmZmbiu+++E0IIkZeXJwCR\n",
              "k5PT6D1Hjhwp5s+f33AfECEhIeLs2bOipqZG/OEPfxDe3t5i8uTJory8XFy6dEl4e3uLxYsXCyFE\n",
              "q9bWUcngGNjZs2eFlZWVWLdunSgrK2t4/MiRI8Lc3FxUVFQ0PKbRaISVlZXYt2+fEEK3cUZGRjZq\n",
              "LywsTCxdulQI0bzgrFmzpuH+5s2bBSAuXLjQ8NiMGTPEuHHjWr22jsrMiF92HZKXlxfr1q3jww8/\n",
              "ZOrUqfj5+TFnzhyUSiUajQZ3d/fbXlNYWNjw7+7duzd6ztbWloqKimbX4ebm1qiNph77ud2cnJw2\n",
              "ra0jkMFpBTExMcTExKDRaEhJSWHixIns3r0bCwsLSkpKMDc316tdpbJ1DkldXV1NtjZT1bn+2jaQ\n",
              "nZ3N1q1bqaysxMzMDAcHBwDc3d3p27cvCQkJFBcXA3D9+nU2btzIjRs37qvtbt26oVQqyc7ONmjN\n",
              "w4cPN9naTJUMjoHV1tby1ltv0aNHD+zt7Zk7dy5r1qzBx8eHnTt3YmNjw6BBg7CzsyM4OJhNmzah\n",
              "UCjuq21ra2sWL15MXFwcjo6OPPvsswapWaVSmWxtpkqeAJUkPchvHEnSgwyOJOlBBkeS9CCDI0l6\n",
              "kMGRJD00Ozienp4EBAQQEhJCSEgIycnJTS73ySef4Ofnh4+PD8888wx1dXUtLlaSTEWzu6M9PT3Z\n",
              "vHkzISEhd1wmLy+PYcOGkZaWhlqtJiYmhtGjRzN9+vSW1itJJqFVdtU2bNhAdHQ0rq6uKBQKpk2b\n",
              "RlJS0n2/PjExsTXKkiSD0Ss4kyZNol+/fkyZMoWSkpLbni8oKMDDw6PhvqenJwUFBU22VVNTQ3l5\n",
              "eaPbL68DkVpfRXUdb359ksGLd7H9+EVjl3NXQgh2nLjEw8u/Z9z7Bzhy7rpR6mh2cPbu3UtGRgZp\n",
              "aWk4OzsTGxvbogKWLFmCg4NDo1tqamqL2pTujxCCTUeLeHj5Hj7en8el8moWbD5OZY3G2KU1Ke9K\n",
              "FZM/PUT8Z0c4W1JFemEp4z88yAvrj3GlsqZNa2l2cHr16gWAubk5s2bNYt++fU0uc+7cuYb7+fn5\n",
              "Da/7tZdffpmysrJGt4EDBza3LKmZTl4oZ8JHPzA7+RglFTV4Odvi/oA1VyprWfX9GWOX18iNWg3v\n",
              "fpPF6L/tZc/pEixUSp6N8GFCmO4yiA1Hiohc9j2fHshDU69tk5qadVlBVVUVdXV1ODo6ApCUlET/\n",
              "/v1vW278+PEMHz6c1157DbVazapVq5g4cWKTbVpaWmJpadnoMZVK1ZyypGYou1nH33aeZs0P+WgF\n",
              "WJureO4RX6YM92J3VgnT1h7hn/vO8tSgXnR3tDZqrUIItmZe4s0tJ7lYVg1AREA3Xv1dEF7OumuM\n",
              "Jg7sxcIvj3P8fDmL/nOS5EOFLIoOYpC3U6vW1qzgXL58mfHjx1NfX48QAm9vb9asWQNAXFwc0dHR\n",
              "REdH4+3tzaJFixg2bBiguyZ+6tSphq9eum9arWBDWhFvb8vialUtAGMfdGN+VGBDQEYHqRno2ZXU\n",
              "/Gss+yabFU+GGK3e3OIKXv3qBAdyrwLg/oA1Cx/rw6g+6kYjtkN7PcCX04ez7lAB736TTdalCp78\n",
              "x4+MC+nOvKhAXOytWqU+kxwdPWfOHFasWGHsMjqMzKIyFn51nKMFpQD4unRhUXQQw3ydb1s2o6iU\n",
              "6JUHAPhqxjAedHdsw0qhskbDe7ty+Nf+PDRagYWZkoSRPiRE+GBlfvc9ketVtby7I5uk1AKEAFsL\n",
              "FbMe9WfyME/MVYbtQJbB6cCuV9WybEc2X/xiQ5r5qB+Th3phYXbnDWl2cjqbjp5noFdXkuMH3/c1\n",
              "OS0hhOCrYxd4a8spiit0B/qPBqpZ+FgfejnZNKutjKJSFn55gvTCUkD3QfF6dBBDm/ig0Je8dLoD\n",
              "qtcKkg8V8s43WZTe0I3YiLm166K+j12XF0cHsDXzIql519hx8jKjg1xbtd6sS+Us/PIEqXnXAPBw\n",
              "suG13wUR2dtFr/YedHckJWEoG44UsXR7FrnFlTz18U+MfdCNBWMDcXNo+bFbuwpO0fUbHMq/pvfr\n",
              "1fZWDPF2apNP0JbQ1GvZlVXMjdrmdwvX1QvW/niOjKIyAHq72jX7YLm7ozVxI7x4f/cZlm7LIjLA\n",
              "5a7fUPqqqtGwbEc2a344R71WYGWuZEakL3EjvO+5W3YvSqWCCeE9GR3kyoqd2Xz24zm2ZFzku1PF\n",
              "DZ0hlmb6v0e7Ck56YSmzk4+1qI0h3k4signCX21noKoM771dObz3XW6L2rCzNGP2KH8mDfHATI/9\n",
              "+4QIX5IPFZJ3pYrPfzrHn4d5taieX6ur1/LMmsMcPKM7+B/T15X5YwNxf6B5u2X34mBjzqKYvkwI\n",
              "78mrX57g8LnrvLM9m8JrN1nyeD+9221XwXHuYskIP/33U1PzrvHD2atEJe5j8lBPZj7qh52VfrO6\n",
              "tJYLpTf5aK9u5MRAz65Ymjd/o/d2tmX6w7642Onfo9TF0ow5owKYtymTxF05PN7fHQcbw6wrIQQL\n",
              "vzzBwTNXsbVQ8cHTAxjp380gbd9JUHcH1k8bwqaj51m+4zTxD3m3qL1O1TlQeO0Gb3x9kh0nLwPQ\n",
              "zc6SeVG9GRfSw2R23+Ykp5Ny9DwDPbuSPLVtDszvRFOvJeq9fZy+XEnccC8WPNbHIO3+a38er399\n",
              "EoUC/vmnMB7tozZIu/dLU6/V61v4lzrV9Tg9u9rwj0lh/PvP4Xg521JSUcPs5GNM+OgHTl4oN3Z5\n",
              "ZBaVkXL0PAALHgs0epjNVErmRQUCsPqHfM5drWpxm7uzi3lzy0kA5o0JbPPQAC0ODXSy4PwsIsCF\n",
              "7bNG8OLoAKzNVRzKv85j/7OP1746QdlN41w3JIRo2KB+379Hm58/uZOIABdG+DlTVy94e3tWi9rK\n",
              "vlTBc18cRSvgybCexI0w7HFTW+qUwQGwNFMxPdKXb+eOZGw/N7QC/n0wn4eXfc//Hi5Eq23bPdgd\n",
              "Jy/zU941LM2UvDg6oE3f+17mjw1EqYCtmZc4rGev5pXKGqasPkRljYZBXl15Y1xfo3+jtkSnDc7P\n",
              "ejha8/4fQ1k7ZRA+3Wy5WlXLSxsyGL/qIJm3unRbW61Gy9Jtuk/zuBFeRh8j9mu9Xe15MrwnAG9u\n",
              "OUVzD4trNPVM++wIRddv4uFkw6qnB7RK93Zbat/VG9BwP2e2zXyIeVG9sbVQcbSglOj39zN/Uyal\n",
              "N2pb9b0//+kceVeqcO5iQUKEaf6a2exR/thaqEgvLOU/Gfd/zY4QgpdTMjl87jp2VmZ8EhvOA7YW\n",
              "rVhp25DB+QULMyXxD/nw3QsRxIR0Rwj4/KcCIpd9z65Tl1vlPctu1JG4KwfQbZxdLE3zDIGLnRXT\n",
              "RvoA8Pa2LKrr6u/rdR/uOUNK2nlUSgUf/DEUX5curVlmm5HBaYLa3orEif1ZFz+YALUd12/U8ezn\n",
              "aRy7NfbJkFbuzqH0Rh3+6i48GdbT4O0bUtwIb1ztrThfepNPD+Tfc/ntxy/xznbdJOyv/a4PI/xa\n",
              "91xNW2pWcKqrqxk3bhz+/v4EBwczatQocnNvP8Odn5+PSqVqmAknJCSEM2dM6+Ko+zHY24mvnx9O\n",
              "ZEA3ajS6M90Xy24arP1zV6tYfVB3wd+8qECDdJO2JmsLVUPHxQe7c7l6l6suj58vY3ZyOgCThnjw\n",
              "pyGebVBh22n2/1R8fDzZ2dkcO3aMmJgY4uLimlzOzs6O9PT0hpuPj0+LizUGc5WS9/6rPwFqO4or\n",
              "aohbfVivMWRNeXt7FrX1Wkb4ORMRoN+Axrb2+/496NvDnooaDX//NqfJZS6XVxO3+jA36+oZ4efM\n",
              "QgOdODUlzQqOlZUVUVFRDd2IgwcPJj8/vzXqMil2VuZ8HBuGk60FJy6UMyf5WIu7qw/nX2Nr5iWU\n",
              "Cl13b3uhVCpYMFYXhC9SC8gtbvyLbDdr63lmzWEulVfj082WlU+Fmvw3qT5a9BclJiYSExPT5HNV\n",
              "VVWEh4cTGhrK66+/Tn190weTTc1yc6dljalnVxs++tMALFRKtp+4xLId+v+Aku5k5ykAJoT1pLer\n",
              "vaHKbBODvZ0Y1UdNvVawZOv/nxTVagUvbDhGRlEZjjbmfBIbjoO1aY0FNBS9g7N48WJyc3NZsmTJ\n",
              "bc+5ublx/vx5Dh06xLfffsu+fftYvnx5k+20p1luwjy7snS8bkTtB9+fISWtSK92/pNxkfTCUmws\n",
              "VMz5jb8hS2wzL4/pjZlSwa6sYg7kXgHg77ty2JJxEXOVglVPD8Dz1rwAHZFewVm2bBkpKSls27YN\n",
              "G5vbh4FbWlri4qLbZ+/atSt/+ctfmpwNB9rfLDePh7rzbITueO2vGzObfSa9uq6et2+d7EwY6dOi\n",
              "EczG5N2tC08P1s2d9+aWU2w+ep73bnWrvzWuH4NbebIMY2t2cFasWEFSUhI7d+5smO3m14qLixvm\n",
              "iq6pqSElJaXJ2XBAFzJ7e/tGN1Of5eaF3wQwOkhNbb2WqZ8dofDa/f1OJuiG9ZwvvYmrvRVxI1o2\n",
              "tN3YZj7ih72VGaculjPrVg9a/EPeTAg37W51Q2hWcIqKipg7dy6lpaVERkYSEhLCoEGDAFi4cCGr\n",
              "Vq0CYP/+/fTv35/g4GBCQ0NxdXVl/vz5hq/eSJRKBX97MoSg7vZcraplyupDVFTfe3Do1coa3r91\n",
              "gdqLowOwtjDtD4h7ecDWguce9mu4/0hvF/77t72NWFHb6VTX4xjaxbKbxKw8QHFFDZEB3fg4NhyV\n",
              "8s4DF1/ZfJzPfjxH3x72fDV9OMq7LNte1Gjqif2X7pj049hwkx35YGgdr5+wDbk5WPPPSWFYminZ\n",
              "nV3C4q2n7rhsbnEFX6Tq5s+eH9WnQ4QGdKPM18UPYV38kE4TGpDBabHgno4snxAMwCf780hKbXpy\n",
              "+SVbs6jXCkb1UTPEp2MfOHcGMjgG8NiD3Zn9qK5b+ZXNxzl45kqj5w/mXmFXVjFmSgUvj+kcxwAd\n",
              "nQyOgTz/iC/Rwd3RaAUJa9M4W1IJ6OY4+/lk59ODPfDu1jFGB3d2MjgGolAoeOeJBwnp6UjZzTri\n",
              "Vh+m7EYdKWlFnLxYjp2VGc8/4nfvhqR2QQbHgKzMVfxj0gC6O1hx9koVCZ8faRia89zDvnTtABdw\n",
              "SToyOAbmYmfFx7Hh2FioOHjmKpfLa+jZ1ZrYoZ7GLk0yIBmcVtCnuz2JE/vz81wUf/1tYIumW5VM\n",
              "T+fpeG9jo/qo+fCPAyiuqCaqX+tOWi61PZMcOfD444/j6enZ5HP19fWkpqYycOBAkx/TZgxy/dzd\n",
              "/awfDw8PZs6cedd2TDI4d1NeXo6DgwNlZWXY27ev61jaglw/d2eo9SOPcSRJDzI4kqQHGRxJ0kO7\n",
              "C46lpSWvvvrqbT/xLunI9XN3hlo/7a5zQJJMQbv7xpEkUyCDI0l6kMGRJD20q+Dk5OQwdOhQ/P39\n",
              "CQ8P58SJE8YuyaR4enoSEBDQMF93cnKysUsyuueffx5PT08UCgXp6ekNj7d4WxLtSGRkpPj000+F\n",
              "EEKsX79ehIWFGbcgE+Ph4SGOHj1q7DJMyp49e0RhYeFt66al21K7Cc7ly5eFnZ2dqKurE0IIodVq\n",
              "hVqtFjk5OUauzHTI4NzZL9eNIbaldrOrVlhYiJubG2ZmugHdCoWCXr16UVDQ9OQYndWkSZPo168f\n",
              "U6ZMoaSkxNjlmCRDbEvtJjjSve3du5eMjAzS0tJwdnYmNjbW2CV1WO3mepyePXty8eJFNBoNZmZm\n",
              "CCEoKCigV69exi7NZPy8LszNzZk1axb+/u1zQvfWZohtqd1847i4uBAaGsratWsB2LhxI+7u7vj6\n",
              "muaPzba1qqoqSktLG+4nJSXdcb7uzs4g25LhD8NaT1ZWlhg8eLDw8/MTAwYMEBkZGcYuyWScOXNG\n",
              "hISEiH79+om+ffuK6OhokZeXZ+yyjC4+Pl706NFDqFQq4eLiInx8fIQQLd+W5Fg1SdJDu9lVkyRT\n",
              "IoMjSXqQwZEkPcjgSJIeZHAkSQ8yOJKkBxkcSdKDDI4k6UEGR5L0IIMjSXqQwZEkPfwfsoSkN295\n",
              "rlcAAAAASUVORK5CYII=\n",
              "\">\n",
              "        \n",
              "      </div>\n",
              "      <script></script>\n",
              "      <script type=\"text/javascript\">\n",
              "        (() => {\n",
              "          const chartElement = document.getElementById(\"chart-337da616-8026-492b-b8a6-c3f0ad5d2bac\");\n",
              "          async function getCodeForChartHandler(event) {\n",
              "            const chartCodeResponse =  await google.colab.kernel.invokeFunction(\n",
              "                'getCodeForChart', [\"chart-337da616-8026-492b-b8a6-c3f0ad5d2bac\"], {});\n",
              "            const responseJson = chartCodeResponse.data['application/json'];\n",
              "            await google.colab.notebook.addCell(responseJson.code, 'code');\n",
              "          }\n",
              "          chartElement.onclick = getCodeForChartHandler;\n",
              "        })();\n",
              "      </script>\n",
              "      <style>\n",
              "        .colab-quickchart-chart-with-code  {\n",
              "            display: block;\n",
              "            float: left;\n",
              "            border: 1px solid transparent;\n",
              "        }\n",
              "\n",
              "        .colab-quickchart-chart-with-code:hover {\n",
              "            cursor: pointer;\n",
              "            border: 1px solid #aaa;\n",
              "        }\n",
              "      </style>"
            ]
          },
          "metadata": {}
        },
        {
          "output_type": "display_data",
          "data": {
            "text/plain": [
              "<google.colab._quickchart_helpers.SectionTitle at 0x7aaf8bb77be0>"
            ],
            "text/html": [
              "<h4 class=\"colab-quickchart-section-title\">Distributions</h4>\n",
              "<style>\n",
              "  .colab-quickchart-section-title {\n",
              "      clear: both;\n",
              "  }\n",
              "</style>"
            ]
          },
          "metadata": {}
        },
        {
          "output_type": "display_data",
          "data": {
            "text/plain": [
              "import numpy as np\n",
              "from google.colab import autoviz\n",
              "df_3631793523787470058 = autoviz.get_df('df_3631793523787470058')\n",
              "\n",
              "def histogram(df, colname, num_bins=20, figsize=(2, 1)):\n",
              "  from matplotlib import pyplot as plt\n",
              "  _, ax = plt.subplots(figsize=figsize)\n",
              "  plt.hist(df[colname], bins=num_bins, histtype='stepfilled')\n",
              "  plt.ylabel('count')\n",
              "  plt.title(colname)\n",
              "  ax.spines[['top', 'right',]].set_visible(False)\n",
              "  plt.tight_layout()\n",
              "  return autoviz.MplChart.from_current_mpl_state()\n",
              "\n",
              "chart = histogram(df_3631793523787470058, *['sentiment'], **{})\n",
              "chart"
            ],
            "text/html": [
              "      <div class=\"colab-quickchart-chart-with-code\" id=\"chart-b17c6b48-7a68-4eb1-9479-d7872d2a56e1\">\n",
              "        <img src=\"data:image/png;base64,iVBORw0KGgoAAAANSUhEUgAAALkAAABgCAYAAABBnNO7AAAAOXRFWHRTb2Z0d2FyZQBNYXRwbG90\n",
              "bGliIHZlcnNpb24zLjcuMSwgaHR0cHM6Ly9tYXRwbG90bGliLm9yZy/bCgiHAAAACXBIWXMAAA9h\n",
              "AAAPYQGoP6dpAAAJkUlEQVR4nO3dW0hU3x4H8O/omPdRUVNLNMdraGkXTDNIgx7yD2lZIBE5D6IZ\n",
              "RqUgB1S6SCYRkRn00IMlhUp5eTm+pEVaVmp0MahpxKYML5NW3m/jrPMg7nPmZDVbZzszu98HhGa5\n",
              "Z8934Mtqu2fvNRLGGAMhImZl6gCECI1KTkSPSk5Ej0pORI9KTkSPSk5Ej0pORI9KTkSPSk5Ej0pu\n",
              "pvbs2YOioiJTxxAFCX2sb1pqtRoBAQFQqVQICgoydRw95pyND5rJiehRyQ107do1BAYGwtnZGV5e\n",
              "XlAoFACAHz9+ICsrC/7+/nB3d0diYiK6u7u55ykUCqSmpiI7Oxvu7u7w8vJCYWEh9/vw8HAAQGRk\n",
              "JJycnHD06FEAQHx8PAoKCrjtJBIJSktLERsbC0dHR0RGRqKzsxN3795FaGgoZDIZDhw4gLGxMe45\n",
              "QmWzOIz80YcPH5i9vT3r7OxkjDE2OjrKHj16xHQ6HYuPj2eHDh1iQ0NDbGpqiuXl5bH169ezmZkZ\n",
              "xhhjaWlpbNWqVayyspJptVrW2trKpFIpe/DgAWOMsY8fPzIATKVS6b3mzp07WX5+PvcYAIuKimLd\n",
              "3d1senqaHTx4kMnlcqZQKNjIyAjr7+9ncrmcFRcXM8aYoNksDZXcAN3d3czOzo5VVVWx4eFhbvzF\n",
              "ixfMxsaGjY6OcmNarZbZ2dmxlpYWxth8kRISEvT2t3XrVlZSUsIY41fyiooK7nF9fT0DwHp7e7mx\n",
              "7OxslpycLHg2SyM14X8iFiMgIABVVVW4fv06MjMzERwcjJycHFhZWUGr1cLX1/en5/T09HD/XrNm\n",
              "jd7vHB0dMTo6yjuHj4+P3j4WG1vYr0qlWtFs5oxKbqCkpCQkJSVBq9WitrYWqampePjwIVatWoWv\n",
              "X7/CxsZmSfu1shLmzyJvb2+zzbbSxPEuBKZUKtHQ0ICxsTFIpVK4uLgAAHx9fREREYGsrCxoNBoA\n",
              "wPfv31FTU4OJiQmD9u3p6QkrKysolUqjZt6xY4fZZltpVHIDzMzM4Pz581i7di1kMhlyc3NRUVGB\n",
              "wMBA3L9/Hw4ODti2bRucnZ0RGRmJuro6SCQSg/Ztb2+P4uJipKenw9XVFceOHTNKZmtra7PNttLo\n",
              "wyAiejSTE9GjkhPRo5IT0aOSE9GjkhPRo5IT0aOSE9Ez25KXlpaaOgIRCbMt+adPn0wdgYgEXaBF\n",
              "DLLuX/9edFxd8s8KJ+HPbGdyQoxF0JKvW7cOoaGhiIqKQlRUFKqrq4V8OUIWxftw5c2bN9i4ceMf\n",
              "xxZUV1cjKipqSeEIMQbeM/nCDbx/GiPEXBg8k2s0GvT392NychKdnZ1YuEJ3eHgY4+Pjv3zekSNH\n",
              "wBhDdHQ0SkpK4Onp+dM209PTmJ6e1hubm5szNBohv2VwySsrK3HlyhX09vZi79693LiLiwvy8vIW\n",
              "fU5zczP8/PwwOzuLgoICpKWloaGh4aftLly4gLNnz+qNxcTEGBqNkN/ifdNEUVGR3tochurr60NI\n",
              "SMiiN8kuNpMXFhbSB0JmxJJPIfL+w7OwsBA6nQ79/f3QarXcuJ+fn9524+PjmJ2dhaurK4D5/wk2\n",
              "bdq06D5tbW1ha2urN2Ztbc03GiGL4l3yW7du4fjx47CxseHu5pZIJNzNsgsGBgaQkpKCubk5MMYg\n",
              "l8tRUVFhnNSE8MC75OfOnUN7eztCQ0N/u51cLsfLly+XHIwQY+F9CtHDw+OPBSfEnPAueXJyMq5c\n",
              "uQKNRoORkRHuhxBzxftwJT8/HwCQk5MDiUQCxhgkEgmd1yZmi3fJdTqdEDkIEQxdhUhEj/dMbmVl\n",
              "tegyY3S4QswV75L/7yeWk5OTqKiooIITs8b7cMXR0ZH78fDwQE5ODu7duydENkKMYtnH5O/fv8fg\n",
              "4KAxshAiCN6HK25ubtwx+cK1K2VlZcZNRYgR8S75q1ev/vtkqRTe3t50MRUxa7xL7u/vj4mJCa7s\n",
              "bm5ucHBwMHYuQoyGd8lbW1uRkpICb29vAPNXG9bU1CA2Ntbo4QgxBt4lXzibEhcXB2C+9KdOncKz\n",
              "Z8+MHo78XYS6MYP32ZXJyUmu4ACwfft2TE1NLSsEIULiXXInJyc0NjZyj5uamrjvlCTEHPE+XLl6\n",
              "9Sr279/PnVHR6XSora01ejBCjIV3yXt7e9HR0YGBgQEAgJeXF9ra2owejBBj4X24UlhYCE9PT0RE\n",
              "RCAiIgIeHh5LunufkJWy7FVtV/qGiV/9BQ6szPIIplyawZKXhTAl3jO5s7MzWltbucdPnjyBs7Oz\n",
              "UUMRYky8Z/KLFy9i3759CAsLAwCoVCrU1dUtuq1KpUJaWhoGBwfh4uKCmzdvIjw8fHmJCeGJd8lj\n",
              "Y2Px7t07PH36FMD8efKFBYT+X2ZmJjIyMqBQKHDv3j0oFAq0t7cvKzAhfC3pUls3NzckJiYiMTHx\n",
              "lwXXaDTo6OjA4cOHAQApKSno6elBV1fXksMSshSCfZ1KT08PfHx8IJXOv4REIoGfnx8+f/6MoKAg\n",
              "vW1pVVsiJN4LfhrqxYsXOHToEJRKJTe2sHzzrl279LY9c+bMT6vahoWFYc+ePUJEW7K5uTm0tbUh\n",
              "Ojr6r7q82Fzft7+/P06cOPHH7QQruUajQVBQEL59+wapVArGGHx8fPD48WODZvLFFgE1tZGREbi4\n",
              "uGB4eBgymczUcVaMpb9vwZakWL16NTZv3ozbt28DAGpqauDr6/tTwYH5QstkMr0fcys4sVyCzeQA\n",
              "oFQqoVAoMDQ0BJlMhvLycmzYsEGolxOcpc9oS2Xp71vQ7/EMDQ3lTjUSYiq0ghYPtra2OH369F93\n",
              "KGXp71vQwxVCzAHN5ET0qORE9KjkRPSo5AaYmppCcnIyQkJCEBkZid27d/911+CUl5dDIpGgvr7e\n",
              "1FF4o5IbKCMjA0qlEq9fv0ZSUhLS09NNHWnFqNVq3Lhxw2K/QJhKbgA7OzskJiZya0DGxMRArVab\n",
              "NtQK0el0SE9PR1lZmcWeQqSSL0FpaSmSkpJMHWNFXL58GXFxcdiyZYupoyyZoJ94ilFxcTG6urrQ\n",
              "1NRk6iiCe/v2LWpqatDc3GzqKMtCJefh0qVLqK2tRWNj41+xyGlLSwvUajWCg4MBAP39/cjIyEBf\n",
              "Xx+ysrJMnM5w9ImngS5fvow7d+6gsbERbm5upo5jEvHx8Th58iSSk5NNHYUXmskN8OXLF+Tm5kIu\n",
              "lyMhIQHA/PUcz58/N3EyYgiayYno0dkVInpUciJ6VHIielRyInpUciJ6VHIielRyInpUciJ6VHIi\n",
              "elRyInpUciJ6/wEBGSo4NAYiXgAAAABJRU5ErkJggg==\n",
              "\">\n",
              "        \n",
              "      </div>\n",
              "      <script></script>\n",
              "      <script type=\"text/javascript\">\n",
              "        (() => {\n",
              "          const chartElement = document.getElementById(\"chart-b17c6b48-7a68-4eb1-9479-d7872d2a56e1\");\n",
              "          async function getCodeForChartHandler(event) {\n",
              "            const chartCodeResponse =  await google.colab.kernel.invokeFunction(\n",
              "                'getCodeForChart', [\"chart-b17c6b48-7a68-4eb1-9479-d7872d2a56e1\"], {});\n",
              "            const responseJson = chartCodeResponse.data['application/json'];\n",
              "            await google.colab.notebook.addCell(responseJson.code, 'code');\n",
              "          }\n",
              "          chartElement.onclick = getCodeForChartHandler;\n",
              "        })();\n",
              "      </script>\n",
              "      <style>\n",
              "        .colab-quickchart-chart-with-code  {\n",
              "            display: block;\n",
              "            float: left;\n",
              "            border: 1px solid transparent;\n",
              "        }\n",
              "\n",
              "        .colab-quickchart-chart-with-code:hover {\n",
              "            cursor: pointer;\n",
              "            border: 1px solid #aaa;\n",
              "        }\n",
              "      </style>"
            ]
          },
          "metadata": {}
        }
      ]
    },
    {
      "cell_type": "code",
      "source": [
        "df['review'].iloc[3]"
      ],
      "metadata": {
        "colab": {
          "base_uri": "https://localhost:8080/",
          "height": 36
        },
        "id": "dQpzT9ZdtFTM",
        "outputId": "73a4b897-9222-4c18-acee-4041d45c896c"
      },
      "execution_count": 31,
      "outputs": [
        {
          "output_type": "execute_result",
          "data": {
            "text/plain": [
              "'Watch out they tow within minutes if you park there and have to go across the street. \\xa0Never shopping there again. \\xa0700 tow bill is bent over pleasure, seems illegal.'"
            ],
            "application/vnd.google.colaboratory.intrinsic+json": {
              "type": "string"
            }
          },
          "metadata": {},
          "execution_count": 31
        }
      ]
    }
  ]
}